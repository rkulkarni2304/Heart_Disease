{
 "cells": [
  {
   "cell_type": "markdown",
   "metadata": {
    "papermill": {
     "duration": 0.04409,
     "end_time": "2020-11-12T10:41:32.329152",
     "exception": false,
     "start_time": "2020-11-12T10:41:32.285062",
     "status": "completed"
    },
    "tags": []
   },
   "source": [
    "# Prediction Of Heart Disease\n",
    "### By: Rahul Kulkarni"
   ]
  },
  {
   "cell_type": "markdown",
   "metadata": {
    "papermill": {
     "duration": 0.042351,
     "end_time": "2020-11-12T10:41:32.414719",
     "exception": false,
     "start_time": "2020-11-12T10:41:32.372368",
     "status": "completed"
    },
    "tags": []
   },
   "source": [
    "### Scope and Problem Statement:\n",
    "In this kernel we will try to predict the possibility of a person having heart diesease with the help of various factors such as age, gender,blood pressure etc. We will use various classification models for the purpose of prediction. We will got through various processes such as Data cleaning,EDA,Model fitting and Evaluation.\n",
    "\n",
    "This prediction is very useful in the healthcare industry, as an accurate prediction can help the doctors in helping the patient beforehand."
   ]
  },
  {
   "cell_type": "markdown",
   "metadata": {
    "papermill": {
     "duration": 0.042221,
     "end_time": "2020-11-12T10:41:32.499612",
     "exception": false,
     "start_time": "2020-11-12T10:41:32.457391",
     "status": "completed"
    },
    "tags": []
   },
   "source": [
    "### Description of the dataset:\n",
    "1. **age**: age of the patient\n",
    "2. **sex**: 1 = male and 0 = female\n",
    "3. **cp(chest pain type)**: 1= typical anginaValue, 2= atypical anginaValue, 3= non-anginal painValue, 4= asymptomatic\n",
    "4. **trestps(resting blood pressure)**:  resting blood pressure (in mm Hg on admission to the hospital)\n",
    "5. **chol(serum cholestoral in mg/dl)**\n",
    "1. **fbs(fasting blood sugar > 120 mg/dl)**: 1 = true, 0 = false\n",
    "1. **restecg(resting electrocardiographic results)**: 0= normal, 1= having ST-T wave abnormality (T wave inversions and/or ST elevation or depression of > 0.05 mV), 2= showing probable or definite left ventricular hypertrophy by Estes' criteria\n",
    "1. **thalach(maximum heart rate achieved)**\n",
    "1. **exang(exercise induced angina)**: 1 = yes, 0 = no\n",
    "1. **oldpeak**: ST depression induced by exercise relative to rest\n",
    "1. **slope(the slope of the peak exercise ST segment)**: 1= upsloping, 2= flat, 3= downsloping\n",
    "1. **ca(number of major vessels (0-3) colored by flourosopy)**\n",
    "1. **thal**: 3 = normal; 6 = fixed defect; 7 = reversable defect\n",
    "1. **target**: 0= < 50% diameter narrowing, 1= > 50% diameter narrowing"
   ]
  },
  {
   "cell_type": "markdown",
   "metadata": {
    "papermill": {
     "duration": 0.042042,
     "end_time": "2020-11-12T10:41:32.584221",
     "exception": false,
     "start_time": "2020-11-12T10:41:32.542179",
     "status": "completed"
    },
    "tags": []
   },
   "source": [
    "# Data Cleaning"
   ]
  },
  {
   "cell_type": "code",
   "execution_count": 1,
   "metadata": {
    "execution": {
     "iopub.execute_input": "2020-11-12T10:41:32.678308Z",
     "iopub.status.busy": "2020-11-12T10:41:32.677582Z",
     "iopub.status.idle": "2020-11-12T10:41:32.704593Z",
     "shell.execute_reply": "2020-11-12T10:41:32.705141Z"
    },
    "papermill": {
     "duration": 0.078486,
     "end_time": "2020-11-12T10:41:32.705324",
     "exception": false,
     "start_time": "2020-11-12T10:41:32.626838",
     "status": "completed"
    },
    "tags": []
   },
   "outputs": [
    {
     "data": {
      "text/html": [
       "<div>\n",
       "<style scoped>\n",
       "    .dataframe tbody tr th:only-of-type {\n",
       "        vertical-align: middle;\n",
       "    }\n",
       "\n",
       "    .dataframe tbody tr th {\n",
       "        vertical-align: top;\n",
       "    }\n",
       "\n",
       "    .dataframe thead th {\n",
       "        text-align: right;\n",
       "    }\n",
       "</style>\n",
       "<table border=\"1\" class=\"dataframe\">\n",
       "  <thead>\n",
       "    <tr style=\"text-align: right;\">\n",
       "      <th></th>\n",
       "      <th>age</th>\n",
       "      <th>sex</th>\n",
       "      <th>cp</th>\n",
       "      <th>trestbps</th>\n",
       "      <th>chol</th>\n",
       "      <th>fbs</th>\n",
       "      <th>restecg</th>\n",
       "      <th>thalach</th>\n",
       "      <th>exang</th>\n",
       "      <th>oldpeak</th>\n",
       "      <th>slope</th>\n",
       "      <th>ca</th>\n",
       "      <th>thal</th>\n",
       "      <th>target</th>\n",
       "    </tr>\n",
       "  </thead>\n",
       "  <tbody>\n",
       "    <tr>\n",
       "      <th>0</th>\n",
       "      <td>63</td>\n",
       "      <td>1</td>\n",
       "      <td>3</td>\n",
       "      <td>145</td>\n",
       "      <td>233</td>\n",
       "      <td>1</td>\n",
       "      <td>0</td>\n",
       "      <td>150</td>\n",
       "      <td>0</td>\n",
       "      <td>2.3</td>\n",
       "      <td>0</td>\n",
       "      <td>0</td>\n",
       "      <td>1</td>\n",
       "      <td>1</td>\n",
       "    </tr>\n",
       "    <tr>\n",
       "      <th>1</th>\n",
       "      <td>37</td>\n",
       "      <td>1</td>\n",
       "      <td>2</td>\n",
       "      <td>130</td>\n",
       "      <td>250</td>\n",
       "      <td>0</td>\n",
       "      <td>1</td>\n",
       "      <td>187</td>\n",
       "      <td>0</td>\n",
       "      <td>3.5</td>\n",
       "      <td>0</td>\n",
       "      <td>0</td>\n",
       "      <td>2</td>\n",
       "      <td>1</td>\n",
       "    </tr>\n",
       "    <tr>\n",
       "      <th>2</th>\n",
       "      <td>41</td>\n",
       "      <td>0</td>\n",
       "      <td>1</td>\n",
       "      <td>130</td>\n",
       "      <td>204</td>\n",
       "      <td>0</td>\n",
       "      <td>0</td>\n",
       "      <td>172</td>\n",
       "      <td>0</td>\n",
       "      <td>1.4</td>\n",
       "      <td>2</td>\n",
       "      <td>0</td>\n",
       "      <td>2</td>\n",
       "      <td>1</td>\n",
       "    </tr>\n",
       "    <tr>\n",
       "      <th>3</th>\n",
       "      <td>56</td>\n",
       "      <td>1</td>\n",
       "      <td>1</td>\n",
       "      <td>120</td>\n",
       "      <td>236</td>\n",
       "      <td>0</td>\n",
       "      <td>1</td>\n",
       "      <td>178</td>\n",
       "      <td>0</td>\n",
       "      <td>0.8</td>\n",
       "      <td>2</td>\n",
       "      <td>0</td>\n",
       "      <td>2</td>\n",
       "      <td>1</td>\n",
       "    </tr>\n",
       "    <tr>\n",
       "      <th>4</th>\n",
       "      <td>57</td>\n",
       "      <td>0</td>\n",
       "      <td>0</td>\n",
       "      <td>120</td>\n",
       "      <td>354</td>\n",
       "      <td>0</td>\n",
       "      <td>1</td>\n",
       "      <td>163</td>\n",
       "      <td>1</td>\n",
       "      <td>0.6</td>\n",
       "      <td>2</td>\n",
       "      <td>0</td>\n",
       "      <td>2</td>\n",
       "      <td>1</td>\n",
       "    </tr>\n",
       "  </tbody>\n",
       "</table>\n",
       "</div>"
      ],
      "text/plain": [
       "   age  sex  cp  trestbps  chol  fbs  restecg  thalach  exang  oldpeak  slope  \\\n",
       "0   63    1   3       145   233    1        0      150      0      2.3      0   \n",
       "1   37    1   2       130   250    0        1      187      0      3.5      0   \n",
       "2   41    0   1       130   204    0        0      172      0      1.4      2   \n",
       "3   56    1   1       120   236    0        1      178      0      0.8      2   \n",
       "4   57    0   0       120   354    0        1      163      1      0.6      2   \n",
       "\n",
       "   ca  thal  target  \n",
       "0   0     1       1  \n",
       "1   0     2       1  \n",
       "2   0     2       1  \n",
       "3   0     2       1  \n",
       "4   0     2       1  "
      ]
     },
     "execution_count": 1,
     "metadata": {},
     "output_type": "execute_result"
    }
   ],
   "source": [
    "import pandas as pd\n",
    "import numpy as np\n",
    "heart_data = pd.read_csv('../input/heart-disease-uci/heart.csv')\n",
    "heart_data.head()"
   ]
  },
  {
   "cell_type": "code",
   "execution_count": 2,
   "metadata": {
    "execution": {
     "iopub.execute_input": "2020-11-12T10:41:32.797856Z",
     "iopub.status.busy": "2020-11-12T10:41:32.797109Z",
     "iopub.status.idle": "2020-11-12T10:41:32.800750Z",
     "shell.execute_reply": "2020-11-12T10:41:32.800180Z"
    },
    "papermill": {
     "duration": 0.051698,
     "end_time": "2020-11-12T10:41:32.800917",
     "exception": false,
     "start_time": "2020-11-12T10:41:32.749219",
     "status": "completed"
    },
    "tags": []
   },
   "outputs": [
    {
     "data": {
      "text/plain": [
       "(303, 14)"
      ]
     },
     "execution_count": 2,
     "metadata": {},
     "output_type": "execute_result"
    }
   ],
   "source": [
    "heart_data.shape"
   ]
  },
  {
   "cell_type": "markdown",
   "metadata": {
    "papermill": {
     "duration": 0.044431,
     "end_time": "2020-11-12T10:41:32.889090",
     "exception": false,
     "start_time": "2020-11-12T10:41:32.844659",
     "status": "completed"
    },
    "tags": []
   },
   "source": [
    "The dataset is not very large.\n",
    "\n",
    "Let's make sure that the data types for the features are according to the description."
   ]
  },
  {
   "cell_type": "code",
   "execution_count": 3,
   "metadata": {
    "execution": {
     "iopub.execute_input": "2020-11-12T10:41:32.984445Z",
     "iopub.status.busy": "2020-11-12T10:41:32.983496Z",
     "iopub.status.idle": "2020-11-12T10:41:32.987612Z",
     "shell.execute_reply": "2020-11-12T10:41:32.987100Z"
    },
    "papermill": {
     "duration": 0.054961,
     "end_time": "2020-11-12T10:41:32.987720",
     "exception": false,
     "start_time": "2020-11-12T10:41:32.932759",
     "status": "completed"
    },
    "tags": []
   },
   "outputs": [
    {
     "data": {
      "text/plain": [
       "age           int64\n",
       "sex           int64\n",
       "cp            int64\n",
       "trestbps      int64\n",
       "chol          int64\n",
       "fbs           int64\n",
       "restecg       int64\n",
       "thalach       int64\n",
       "exang         int64\n",
       "oldpeak     float64\n",
       "slope         int64\n",
       "ca            int64\n",
       "thal          int64\n",
       "target        int64\n",
       "dtype: object"
      ]
     },
     "execution_count": 3,
     "metadata": {},
     "output_type": "execute_result"
    }
   ],
   "source": [
    "heart_data.dtypes"
   ]
  },
  {
   "cell_type": "markdown",
   "metadata": {
    "papermill": {
     "duration": 0.043893,
     "end_time": "2020-11-12T10:41:33.075704",
     "exception": false,
     "start_time": "2020-11-12T10:41:33.031811",
     "status": "completed"
    },
    "tags": []
   },
   "source": [
    "Let's check for missing values."
   ]
  },
  {
   "cell_type": "code",
   "execution_count": 4,
   "metadata": {
    "execution": {
     "iopub.execute_input": "2020-11-12T10:41:33.173043Z",
     "iopub.status.busy": "2020-11-12T10:41:33.172276Z",
     "iopub.status.idle": "2020-11-12T10:41:33.176462Z",
     "shell.execute_reply": "2020-11-12T10:41:33.175959Z"
    },
    "papermill": {
     "duration": 0.056234,
     "end_time": "2020-11-12T10:41:33.176570",
     "exception": false,
     "start_time": "2020-11-12T10:41:33.120336",
     "status": "completed"
    },
    "tags": []
   },
   "outputs": [
    {
     "data": {
      "text/plain": [
       "age         0\n",
       "sex         0\n",
       "cp          0\n",
       "trestbps    0\n",
       "chol        0\n",
       "fbs         0\n",
       "restecg     0\n",
       "thalach     0\n",
       "exang       0\n",
       "oldpeak     0\n",
       "slope       0\n",
       "ca          0\n",
       "thal        0\n",
       "target      0\n",
       "dtype: int64"
      ]
     },
     "execution_count": 4,
     "metadata": {},
     "output_type": "execute_result"
    }
   ],
   "source": [
    "heart_data.isnull().sum()"
   ]
  },
  {
   "cell_type": "markdown",
   "metadata": {
    "papermill": {
     "duration": 0.044351,
     "end_time": "2020-11-12T10:41:33.265826",
     "exception": false,
     "start_time": "2020-11-12T10:41:33.221475",
     "status": "completed"
    },
    "tags": []
   },
   "source": [
    "There are no missing values.\n",
    "\n",
    "There are certain column names that bother me so I will rename them."
   ]
  },
  {
   "cell_type": "code",
   "execution_count": 5,
   "metadata": {
    "execution": {
     "iopub.execute_input": "2020-11-12T10:41:33.361572Z",
     "iopub.status.busy": "2020-11-12T10:41:33.360622Z",
     "iopub.status.idle": "2020-11-12T10:41:33.363763Z",
     "shell.execute_reply": "2020-11-12T10:41:33.363143Z"
    },
    "papermill": {
     "duration": 0.053679,
     "end_time": "2020-11-12T10:41:33.363896",
     "exception": false,
     "start_time": "2020-11-12T10:41:33.310217",
     "status": "completed"
    },
    "tags": []
   },
   "outputs": [],
   "source": [
    "heart_data.rename(columns={'trestbps':'restbp','thalach':'maxhr','ca':'nmv'},inplace=True)"
   ]
  },
  {
   "cell_type": "markdown",
   "metadata": {
    "papermill": {
     "duration": 0.044672,
     "end_time": "2020-11-12T10:41:33.453438",
     "exception": false,
     "start_time": "2020-11-12T10:41:33.408766",
     "status": "completed"
    },
    "tags": []
   },
   "source": [
    "# Exploratory Data Analysis"
   ]
  },
  {
   "cell_type": "code",
   "execution_count": 6,
   "metadata": {
    "execution": {
     "iopub.execute_input": "2020-11-12T10:41:33.549300Z",
     "iopub.status.busy": "2020-11-12T10:41:33.548653Z",
     "iopub.status.idle": "2020-11-12T10:41:34.552839Z",
     "shell.execute_reply": "2020-11-12T10:41:34.552151Z"
    },
    "papermill": {
     "duration": 1.054984,
     "end_time": "2020-11-12T10:41:34.553004",
     "exception": false,
     "start_time": "2020-11-12T10:41:33.498020",
     "status": "completed"
    },
    "tags": []
   },
   "outputs": [],
   "source": [
    "import matplotlib.pyplot as plt\n",
    "import seaborn as sns"
   ]
  },
  {
   "cell_type": "markdown",
   "metadata": {
    "papermill": {
     "duration": 0.044857,
     "end_time": "2020-11-12T10:41:34.643910",
     "exception": false,
     "start_time": "2020-11-12T10:41:34.599053",
     "status": "completed"
    },
    "tags": []
   },
   "source": [
    "Let's look at the statistical properties of the features."
   ]
  },
  {
   "cell_type": "code",
   "execution_count": 7,
   "metadata": {
    "execution": {
     "iopub.execute_input": "2020-11-12T10:41:34.743097Z",
     "iopub.status.busy": "2020-11-12T10:41:34.742442Z",
     "iopub.status.idle": "2020-11-12T10:41:34.785656Z",
     "shell.execute_reply": "2020-11-12T10:41:34.785170Z"
    },
    "papermill": {
     "duration": 0.096855,
     "end_time": "2020-11-12T10:41:34.785770",
     "exception": false,
     "start_time": "2020-11-12T10:41:34.688915",
     "status": "completed"
    },
    "tags": []
   },
   "outputs": [
    {
     "data": {
      "text/html": [
       "<div>\n",
       "<style scoped>\n",
       "    .dataframe tbody tr th:only-of-type {\n",
       "        vertical-align: middle;\n",
       "    }\n",
       "\n",
       "    .dataframe tbody tr th {\n",
       "        vertical-align: top;\n",
       "    }\n",
       "\n",
       "    .dataframe thead th {\n",
       "        text-align: right;\n",
       "    }\n",
       "</style>\n",
       "<table border=\"1\" class=\"dataframe\">\n",
       "  <thead>\n",
       "    <tr style=\"text-align: right;\">\n",
       "      <th></th>\n",
       "      <th>age</th>\n",
       "      <th>sex</th>\n",
       "      <th>cp</th>\n",
       "      <th>restbp</th>\n",
       "      <th>chol</th>\n",
       "      <th>fbs</th>\n",
       "      <th>restecg</th>\n",
       "      <th>maxhr</th>\n",
       "      <th>exang</th>\n",
       "      <th>oldpeak</th>\n",
       "      <th>slope</th>\n",
       "      <th>nmv</th>\n",
       "      <th>thal</th>\n",
       "      <th>target</th>\n",
       "    </tr>\n",
       "  </thead>\n",
       "  <tbody>\n",
       "    <tr>\n",
       "      <th>count</th>\n",
       "      <td>303.000000</td>\n",
       "      <td>303.000000</td>\n",
       "      <td>303.000000</td>\n",
       "      <td>303.000000</td>\n",
       "      <td>303.000000</td>\n",
       "      <td>303.000000</td>\n",
       "      <td>303.000000</td>\n",
       "      <td>303.000000</td>\n",
       "      <td>303.000000</td>\n",
       "      <td>303.000000</td>\n",
       "      <td>303.000000</td>\n",
       "      <td>303.000000</td>\n",
       "      <td>303.000000</td>\n",
       "      <td>303.000000</td>\n",
       "    </tr>\n",
       "    <tr>\n",
       "      <th>mean</th>\n",
       "      <td>54.366337</td>\n",
       "      <td>0.683168</td>\n",
       "      <td>0.966997</td>\n",
       "      <td>131.623762</td>\n",
       "      <td>246.264026</td>\n",
       "      <td>0.148515</td>\n",
       "      <td>0.528053</td>\n",
       "      <td>149.646865</td>\n",
       "      <td>0.326733</td>\n",
       "      <td>1.039604</td>\n",
       "      <td>1.399340</td>\n",
       "      <td>0.729373</td>\n",
       "      <td>2.313531</td>\n",
       "      <td>0.544554</td>\n",
       "    </tr>\n",
       "    <tr>\n",
       "      <th>std</th>\n",
       "      <td>9.082101</td>\n",
       "      <td>0.466011</td>\n",
       "      <td>1.032052</td>\n",
       "      <td>17.538143</td>\n",
       "      <td>51.830751</td>\n",
       "      <td>0.356198</td>\n",
       "      <td>0.525860</td>\n",
       "      <td>22.905161</td>\n",
       "      <td>0.469794</td>\n",
       "      <td>1.161075</td>\n",
       "      <td>0.616226</td>\n",
       "      <td>1.022606</td>\n",
       "      <td>0.612277</td>\n",
       "      <td>0.498835</td>\n",
       "    </tr>\n",
       "    <tr>\n",
       "      <th>min</th>\n",
       "      <td>29.000000</td>\n",
       "      <td>0.000000</td>\n",
       "      <td>0.000000</td>\n",
       "      <td>94.000000</td>\n",
       "      <td>126.000000</td>\n",
       "      <td>0.000000</td>\n",
       "      <td>0.000000</td>\n",
       "      <td>71.000000</td>\n",
       "      <td>0.000000</td>\n",
       "      <td>0.000000</td>\n",
       "      <td>0.000000</td>\n",
       "      <td>0.000000</td>\n",
       "      <td>0.000000</td>\n",
       "      <td>0.000000</td>\n",
       "    </tr>\n",
       "    <tr>\n",
       "      <th>25%</th>\n",
       "      <td>47.500000</td>\n",
       "      <td>0.000000</td>\n",
       "      <td>0.000000</td>\n",
       "      <td>120.000000</td>\n",
       "      <td>211.000000</td>\n",
       "      <td>0.000000</td>\n",
       "      <td>0.000000</td>\n",
       "      <td>133.500000</td>\n",
       "      <td>0.000000</td>\n",
       "      <td>0.000000</td>\n",
       "      <td>1.000000</td>\n",
       "      <td>0.000000</td>\n",
       "      <td>2.000000</td>\n",
       "      <td>0.000000</td>\n",
       "    </tr>\n",
       "    <tr>\n",
       "      <th>50%</th>\n",
       "      <td>55.000000</td>\n",
       "      <td>1.000000</td>\n",
       "      <td>1.000000</td>\n",
       "      <td>130.000000</td>\n",
       "      <td>240.000000</td>\n",
       "      <td>0.000000</td>\n",
       "      <td>1.000000</td>\n",
       "      <td>153.000000</td>\n",
       "      <td>0.000000</td>\n",
       "      <td>0.800000</td>\n",
       "      <td>1.000000</td>\n",
       "      <td>0.000000</td>\n",
       "      <td>2.000000</td>\n",
       "      <td>1.000000</td>\n",
       "    </tr>\n",
       "    <tr>\n",
       "      <th>75%</th>\n",
       "      <td>61.000000</td>\n",
       "      <td>1.000000</td>\n",
       "      <td>2.000000</td>\n",
       "      <td>140.000000</td>\n",
       "      <td>274.500000</td>\n",
       "      <td>0.000000</td>\n",
       "      <td>1.000000</td>\n",
       "      <td>166.000000</td>\n",
       "      <td>1.000000</td>\n",
       "      <td>1.600000</td>\n",
       "      <td>2.000000</td>\n",
       "      <td>1.000000</td>\n",
       "      <td>3.000000</td>\n",
       "      <td>1.000000</td>\n",
       "    </tr>\n",
       "    <tr>\n",
       "      <th>max</th>\n",
       "      <td>77.000000</td>\n",
       "      <td>1.000000</td>\n",
       "      <td>3.000000</td>\n",
       "      <td>200.000000</td>\n",
       "      <td>564.000000</td>\n",
       "      <td>1.000000</td>\n",
       "      <td>2.000000</td>\n",
       "      <td>202.000000</td>\n",
       "      <td>1.000000</td>\n",
       "      <td>6.200000</td>\n",
       "      <td>2.000000</td>\n",
       "      <td>4.000000</td>\n",
       "      <td>3.000000</td>\n",
       "      <td>1.000000</td>\n",
       "    </tr>\n",
       "  </tbody>\n",
       "</table>\n",
       "</div>"
      ],
      "text/plain": [
       "              age         sex          cp      restbp        chol         fbs  \\\n",
       "count  303.000000  303.000000  303.000000  303.000000  303.000000  303.000000   \n",
       "mean    54.366337    0.683168    0.966997  131.623762  246.264026    0.148515   \n",
       "std      9.082101    0.466011    1.032052   17.538143   51.830751    0.356198   \n",
       "min     29.000000    0.000000    0.000000   94.000000  126.000000    0.000000   \n",
       "25%     47.500000    0.000000    0.000000  120.000000  211.000000    0.000000   \n",
       "50%     55.000000    1.000000    1.000000  130.000000  240.000000    0.000000   \n",
       "75%     61.000000    1.000000    2.000000  140.000000  274.500000    0.000000   \n",
       "max     77.000000    1.000000    3.000000  200.000000  564.000000    1.000000   \n",
       "\n",
       "          restecg       maxhr       exang     oldpeak       slope         nmv  \\\n",
       "count  303.000000  303.000000  303.000000  303.000000  303.000000  303.000000   \n",
       "mean     0.528053  149.646865    0.326733    1.039604    1.399340    0.729373   \n",
       "std      0.525860   22.905161    0.469794    1.161075    0.616226    1.022606   \n",
       "min      0.000000   71.000000    0.000000    0.000000    0.000000    0.000000   \n",
       "25%      0.000000  133.500000    0.000000    0.000000    1.000000    0.000000   \n",
       "50%      1.000000  153.000000    0.000000    0.800000    1.000000    0.000000   \n",
       "75%      1.000000  166.000000    1.000000    1.600000    2.000000    1.000000   \n",
       "max      2.000000  202.000000    1.000000    6.200000    2.000000    4.000000   \n",
       "\n",
       "             thal      target  \n",
       "count  303.000000  303.000000  \n",
       "mean     2.313531    0.544554  \n",
       "std      0.612277    0.498835  \n",
       "min      0.000000    0.000000  \n",
       "25%      2.000000    0.000000  \n",
       "50%      2.000000    1.000000  \n",
       "75%      3.000000    1.000000  \n",
       "max      3.000000    1.000000  "
      ]
     },
     "execution_count": 7,
     "metadata": {},
     "output_type": "execute_result"
    }
   ],
   "source": [
    "heart_data.describe()"
   ]
  },
  {
   "cell_type": "markdown",
   "metadata": {
    "papermill": {
     "duration": 0.045148,
     "end_time": "2020-11-12T10:41:34.876469",
     "exception": false,
     "start_time": "2020-11-12T10:41:34.831321",
     "status": "completed"
    },
    "tags": []
   },
   "source": [
    "The features such as 'restbp','chol' and 'maxhr' have large ranges compared to other features. This might cause bias towards these features during modelling. We will handle this later.\n",
    "\n",
    "Let's have a closer at the features and how they affect the target variable."
   ]
  },
  {
   "cell_type": "code",
   "execution_count": 8,
   "metadata": {
    "execution": {
     "iopub.execute_input": "2020-11-12T10:41:34.976039Z",
     "iopub.status.busy": "2020-11-12T10:41:34.975363Z",
     "iopub.status.idle": "2020-11-12T10:41:35.134333Z",
     "shell.execute_reply": "2020-11-12T10:41:35.133688Z"
    },
    "papermill": {
     "duration": 0.212052,
     "end_time": "2020-11-12T10:41:35.134465",
     "exception": false,
     "start_time": "2020-11-12T10:41:34.922413",
     "status": "completed"
    },
    "tags": []
   },
   "outputs": [
    {
     "data": {
      "text/plain": [
       "<matplotlib.axes._subplots.AxesSubplot at 0x7fe8fd339f10>"
      ]
     },
     "execution_count": 8,
     "metadata": {},
     "output_type": "execute_result"
    },
    {
     "data": {
      "image/png": "[encoded data removed]",
      "text/plain": [
       "<Figure size 432x288 with 1 Axes>"
      ]
     },
     "metadata": {
      "needs_background": "light"
     },
     "output_type": "display_data"
    }
   ],
   "source": [
    "sns.boxplot(x='target',y='age',data=heart_data)"
   ]
  },
  {
   "cell_type": "markdown",
   "metadata": {
    "papermill": {
     "duration": 0.046684,
     "end_time": "2020-11-12T10:41:35.228192",
     "exception": false,
     "start_time": "2020-11-12T10:41:35.181508",
     "status": "completed"
    },
    "tags": []
   },
   "source": [
    "The box plot doesn't give us good information, so binning ages would be a better option."
   ]
  },
  {
   "cell_type": "code",
   "execution_count": 9,
   "metadata": {
    "execution": {
     "iopub.execute_input": "2020-11-12T10:41:35.328473Z",
     "iopub.status.busy": "2020-11-12T10:41:35.327723Z",
     "iopub.status.idle": "2020-11-12T10:41:35.349934Z",
     "shell.execute_reply": "2020-11-12T10:41:35.349267Z"
    },
    "papermill": {
     "duration": 0.074992,
     "end_time": "2020-11-12T10:41:35.350048",
     "exception": false,
     "start_time": "2020-11-12T10:41:35.275056",
     "status": "completed"
    },
    "tags": []
   },
   "outputs": [],
   "source": [
    "heart_data['age']  = pd.cut(heart_data['age'],bins=[29,39,49,59,69,79],labels=[1,2,3,4,5],include_lowest=True)"
   ]
  },
  {
   "cell_type": "code",
   "execution_count": 10,
   "metadata": {
    "execution": {
     "iopub.execute_input": "2020-11-12T10:41:35.451768Z",
     "iopub.status.busy": "2020-11-12T10:41:35.451169Z",
     "iopub.status.idle": "2020-11-12T10:41:35.466022Z",
     "shell.execute_reply": "2020-11-12T10:41:35.466541Z"
    },
    "papermill": {
     "duration": 0.069894,
     "end_time": "2020-11-12T10:41:35.466679",
     "exception": false,
     "start_time": "2020-11-12T10:41:35.396785",
     "status": "completed"
    },
    "tags": []
   },
   "outputs": [
    {
     "data": {
      "text/html": [
       "<div>\n",
       "<style scoped>\n",
       "    .dataframe tbody tr th:only-of-type {\n",
       "        vertical-align: middle;\n",
       "    }\n",
       "\n",
       "    .dataframe tbody tr th {\n",
       "        vertical-align: top;\n",
       "    }\n",
       "\n",
       "    .dataframe thead th {\n",
       "        text-align: right;\n",
       "    }\n",
       "</style>\n",
       "<table border=\"1\" class=\"dataframe\">\n",
       "  <thead>\n",
       "    <tr style=\"text-align: right;\">\n",
       "      <th>target</th>\n",
       "      <th>0</th>\n",
       "      <th>1</th>\n",
       "      <th>per</th>\n",
       "    </tr>\n",
       "    <tr>\n",
       "      <th>age</th>\n",
       "      <th></th>\n",
       "      <th></th>\n",
       "      <th></th>\n",
       "    </tr>\n",
       "  </thead>\n",
       "  <tbody>\n",
       "    <tr>\n",
       "      <th>1</th>\n",
       "      <td>4</td>\n",
       "      <td>12</td>\n",
       "      <td>75.00</td>\n",
       "    </tr>\n",
       "    <tr>\n",
       "      <th>2</th>\n",
       "      <td>22</td>\n",
       "      <td>50</td>\n",
       "      <td>69.44</td>\n",
       "    </tr>\n",
       "    <tr>\n",
       "      <th>3</th>\n",
       "      <td>60</td>\n",
       "      <td>65</td>\n",
       "      <td>52.00</td>\n",
       "    </tr>\n",
       "    <tr>\n",
       "      <th>4</th>\n",
       "      <td>48</td>\n",
       "      <td>32</td>\n",
       "      <td>40.00</td>\n",
       "    </tr>\n",
       "    <tr>\n",
       "      <th>5</th>\n",
       "      <td>4</td>\n",
       "      <td>6</td>\n",
       "      <td>60.00</td>\n",
       "    </tr>\n",
       "  </tbody>\n",
       "</table>\n",
       "</div>"
      ],
      "text/plain": [
       "target   0   1    per\n",
       "age                  \n",
       "1        4  12  75.00\n",
       "2       22  50  69.44\n",
       "3       60  65  52.00\n",
       "4       48  32  40.00\n",
       "5        4   6  60.00"
      ]
     },
     "execution_count": 10,
     "metadata": {},
     "output_type": "execute_result"
    }
   ],
   "source": [
    "age = heart_data.groupby(['age','target'])['target'].count().unstack()\n",
    "age['per'] = round((age[1]/(age[0]+age[1]))*100,2)\n",
    "age"
   ]
  },
  {
   "cell_type": "markdown",
   "metadata": {
    "papermill": {
     "duration": 0.046704,
     "end_time": "2020-11-12T10:41:35.560764",
     "exception": false,
     "start_time": "2020-11-12T10:41:35.514060",
     "status": "completed"
    },
    "tags": []
   },
   "source": [
    "According to the data mid age patients have a higher chance of having heart problems."
   ]
  },
  {
   "cell_type": "code",
   "execution_count": 11,
   "metadata": {
    "execution": {
     "iopub.execute_input": "2020-11-12T10:41:35.668526Z",
     "iopub.status.busy": "2020-11-12T10:41:35.667590Z",
     "iopub.status.idle": "2020-11-12T10:41:35.671223Z",
     "shell.execute_reply": "2020-11-12T10:41:35.670723Z"
    },
    "papermill": {
     "duration": 0.063741,
     "end_time": "2020-11-12T10:41:35.671338",
     "exception": false,
     "start_time": "2020-11-12T10:41:35.607597",
     "status": "completed"
    },
    "tags": []
   },
   "outputs": [
    {
     "data": {
      "text/html": [
       "<div>\n",
       "<style scoped>\n",
       "    .dataframe tbody tr th:only-of-type {\n",
       "        vertical-align: middle;\n",
       "    }\n",
       "\n",
       "    .dataframe tbody tr th {\n",
       "        vertical-align: top;\n",
       "    }\n",
       "\n",
       "    .dataframe thead th {\n",
       "        text-align: right;\n",
       "    }\n",
       "</style>\n",
       "<table border=\"1\" class=\"dataframe\">\n",
       "  <thead>\n",
       "    <tr style=\"text-align: right;\">\n",
       "      <th>target</th>\n",
       "      <th>0</th>\n",
       "      <th>1</th>\n",
       "      <th>per</th>\n",
       "    </tr>\n",
       "    <tr>\n",
       "      <th>sex</th>\n",
       "      <th></th>\n",
       "      <th></th>\n",
       "      <th></th>\n",
       "    </tr>\n",
       "  </thead>\n",
       "  <tbody>\n",
       "    <tr>\n",
       "      <th>0</th>\n",
       "      <td>24</td>\n",
       "      <td>72</td>\n",
       "      <td>75.00</td>\n",
       "    </tr>\n",
       "    <tr>\n",
       "      <th>1</th>\n",
       "      <td>114</td>\n",
       "      <td>93</td>\n",
       "      <td>44.93</td>\n",
       "    </tr>\n",
       "  </tbody>\n",
       "</table>\n",
       "</div>"
      ],
      "text/plain": [
       "target    0   1    per\n",
       "sex                   \n",
       "0        24  72  75.00\n",
       "1       114  93  44.93"
      ]
     },
     "execution_count": 11,
     "metadata": {},
     "output_type": "execute_result"
    }
   ],
   "source": [
    "sex = heart_data.groupby(['sex','target'])['target'].count().unstack()\n",
    "sex['per'] = round((sex[1]/(sex[0]+sex[1]))*100,2)\n",
    "sex"
   ]
  },
  {
   "cell_type": "markdown",
   "metadata": {
    "papermill": {
     "duration": 0.04715,
     "end_time": "2020-11-12T10:41:35.765991",
     "exception": false,
     "start_time": "2020-11-12T10:41:35.718841",
     "status": "completed"
    },
    "tags": []
   },
   "source": [
    "Females have a higher chance of having heart problems.\n",
    "\n",
    "Let's do further analysis by grouping data by age and sex."
   ]
  },
  {
   "cell_type": "code",
   "execution_count": 12,
   "metadata": {
    "execution": {
     "iopub.execute_input": "2020-11-12T10:41:35.869590Z",
     "iopub.status.busy": "2020-11-12T10:41:35.867448Z",
     "iopub.status.idle": "2020-11-12T10:41:35.888323Z",
     "shell.execute_reply": "2020-11-12T10:41:35.887770Z"
    },
    "papermill": {
     "duration": 0.074906,
     "end_time": "2020-11-12T10:41:35.888436",
     "exception": false,
     "start_time": "2020-11-12T10:41:35.813530",
     "status": "completed"
    },
    "tags": []
   },
   "outputs": [
    {
     "data": {
      "text/html": [
       "<div>\n",
       "<style scoped>\n",
       "    .dataframe tbody tr th:only-of-type {\n",
       "        vertical-align: middle;\n",
       "    }\n",
       "\n",
       "    .dataframe tbody tr th {\n",
       "        vertical-align: top;\n",
       "    }\n",
       "\n",
       "    .dataframe thead th {\n",
       "        text-align: right;\n",
       "    }\n",
       "</style>\n",
       "<table border=\"1\" class=\"dataframe\">\n",
       "  <thead>\n",
       "    <tr style=\"text-align: right;\">\n",
       "      <th></th>\n",
       "      <th>target</th>\n",
       "      <th>0</th>\n",
       "      <th>1</th>\n",
       "      <th>per</th>\n",
       "    </tr>\n",
       "    <tr>\n",
       "      <th>age</th>\n",
       "      <th>sex</th>\n",
       "      <th></th>\n",
       "      <th></th>\n",
       "      <th></th>\n",
       "    </tr>\n",
       "  </thead>\n",
       "  <tbody>\n",
       "    <tr>\n",
       "      <th rowspan=\"2\" valign=\"top\">1</th>\n",
       "      <th>0</th>\n",
       "      <td>0</td>\n",
       "      <td>5</td>\n",
       "      <td>100.00</td>\n",
       "    </tr>\n",
       "    <tr>\n",
       "      <th>1</th>\n",
       "      <td>4</td>\n",
       "      <td>7</td>\n",
       "      <td>63.64</td>\n",
       "    </tr>\n",
       "    <tr>\n",
       "      <th rowspan=\"2\" valign=\"top\">2</th>\n",
       "      <th>0</th>\n",
       "      <td>1</td>\n",
       "      <td>18</td>\n",
       "      <td>94.74</td>\n",
       "    </tr>\n",
       "    <tr>\n",
       "      <th>1</th>\n",
       "      <td>21</td>\n",
       "      <td>32</td>\n",
       "      <td>60.38</td>\n",
       "    </tr>\n",
       "    <tr>\n",
       "      <th rowspan=\"2\" valign=\"top\">3</th>\n",
       "      <th>0</th>\n",
       "      <td>10</td>\n",
       "      <td>24</td>\n",
       "      <td>70.59</td>\n",
       "    </tr>\n",
       "    <tr>\n",
       "      <th>1</th>\n",
       "      <td>50</td>\n",
       "      <td>41</td>\n",
       "      <td>45.05</td>\n",
       "    </tr>\n",
       "    <tr>\n",
       "      <th rowspan=\"2\" valign=\"top\">4</th>\n",
       "      <th>0</th>\n",
       "      <td>13</td>\n",
       "      <td>20</td>\n",
       "      <td>60.61</td>\n",
       "    </tr>\n",
       "    <tr>\n",
       "      <th>1</th>\n",
       "      <td>35</td>\n",
       "      <td>12</td>\n",
       "      <td>25.53</td>\n",
       "    </tr>\n",
       "    <tr>\n",
       "      <th rowspan=\"2\" valign=\"top\">5</th>\n",
       "      <th>0</th>\n",
       "      <td>0</td>\n",
       "      <td>5</td>\n",
       "      <td>100.00</td>\n",
       "    </tr>\n",
       "    <tr>\n",
       "      <th>1</th>\n",
       "      <td>4</td>\n",
       "      <td>1</td>\n",
       "      <td>20.00</td>\n",
       "    </tr>\n",
       "  </tbody>\n",
       "</table>\n",
       "</div>"
      ],
      "text/plain": [
       "target    0   1     per\n",
       "age sex                \n",
       "1   0     0   5  100.00\n",
       "    1     4   7   63.64\n",
       "2   0     1  18   94.74\n",
       "    1    21  32   60.38\n",
       "3   0    10  24   70.59\n",
       "    1    50  41   45.05\n",
       "4   0    13  20   60.61\n",
       "    1    35  12   25.53\n",
       "5   0     0   5  100.00\n",
       "    1     4   1   20.00"
      ]
     },
     "execution_count": 12,
     "metadata": {},
     "output_type": "execute_result"
    }
   ],
   "source": [
    "age_sex = heart_data.groupby(['age','sex','target'])['target'].count().unstack()\n",
    "age_sex['per'] = round((age_sex[1]/(age_sex[0]+age_sex[1]))*100,2)\n",
    "age_sex"
   ]
  },
  {
   "cell_type": "markdown",
   "metadata": {
    "papermill": {
     "duration": 0.047981,
     "end_time": "2020-11-12T10:41:35.984717",
     "exception": false,
     "start_time": "2020-11-12T10:41:35.936736",
     "status": "completed"
    },
    "tags": []
   },
   "source": [
    "We can club age and sex for further analysis, as this has given us interesting information."
   ]
  },
  {
   "cell_type": "code",
   "execution_count": 13,
   "metadata": {
    "execution": {
     "iopub.execute_input": "2020-11-12T10:41:36.095740Z",
     "iopub.status.busy": "2020-11-12T10:41:36.094728Z",
     "iopub.status.idle": "2020-11-12T10:41:36.098667Z",
     "shell.execute_reply": "2020-11-12T10:41:36.098064Z"
    },
    "papermill": {
     "duration": 0.06558,
     "end_time": "2020-11-12T10:41:36.098775",
     "exception": false,
     "start_time": "2020-11-12T10:41:36.033195",
     "status": "completed"
    },
    "tags": []
   },
   "outputs": [
    {
     "data": {
      "text/html": [
       "<div>\n",
       "<style scoped>\n",
       "    .dataframe tbody tr th:only-of-type {\n",
       "        vertical-align: middle;\n",
       "    }\n",
       "\n",
       "    .dataframe tbody tr th {\n",
       "        vertical-align: top;\n",
       "    }\n",
       "\n",
       "    .dataframe thead th {\n",
       "        text-align: right;\n",
       "    }\n",
       "</style>\n",
       "<table border=\"1\" class=\"dataframe\">\n",
       "  <thead>\n",
       "    <tr style=\"text-align: right;\">\n",
       "      <th>target</th>\n",
       "      <th>0</th>\n",
       "      <th>1</th>\n",
       "      <th>per</th>\n",
       "    </tr>\n",
       "    <tr>\n",
       "      <th>cp</th>\n",
       "      <th></th>\n",
       "      <th></th>\n",
       "      <th></th>\n",
       "    </tr>\n",
       "  </thead>\n",
       "  <tbody>\n",
       "    <tr>\n",
       "      <th>0</th>\n",
       "      <td>104</td>\n",
       "      <td>39</td>\n",
       "      <td>27.27</td>\n",
       "    </tr>\n",
       "    <tr>\n",
       "      <th>1</th>\n",
       "      <td>9</td>\n",
       "      <td>41</td>\n",
       "      <td>82.00</td>\n",
       "    </tr>\n",
       "    <tr>\n",
       "      <th>2</th>\n",
       "      <td>18</td>\n",
       "      <td>69</td>\n",
       "      <td>79.31</td>\n",
       "    </tr>\n",
       "    <tr>\n",
       "      <th>3</th>\n",
       "      <td>7</td>\n",
       "      <td>16</td>\n",
       "      <td>69.57</td>\n",
       "    </tr>\n",
       "  </tbody>\n",
       "</table>\n",
       "</div>"
      ],
      "text/plain": [
       "target    0   1    per\n",
       "cp                    \n",
       "0       104  39  27.27\n",
       "1         9  41  82.00\n",
       "2        18  69  79.31\n",
       "3         7  16  69.57"
      ]
     },
     "execution_count": 13,
     "metadata": {},
     "output_type": "execute_result"
    }
   ],
   "source": [
    "cp = heart_data.groupby(['cp','target'])['target'].count().unstack()\n",
    "cp['per'] = round((cp[1]/(cp[0]+cp[1]))*100,2)\n",
    "cp"
   ]
  },
  {
   "cell_type": "markdown",
   "metadata": {
    "papermill": {
     "duration": 0.049064,
     "end_time": "2020-11-12T10:41:36.197028",
     "exception": false,
     "start_time": "2020-11-12T10:41:36.147964",
     "status": "completed"
    },
    "tags": []
   },
   "source": [
    "As expected, if a person has chest pain, they have a higher chance of heart problems."
   ]
  },
  {
   "cell_type": "code",
   "execution_count": 14,
   "metadata": {
    "execution": {
     "iopub.execute_input": "2020-11-12T10:41:36.306810Z",
     "iopub.status.busy": "2020-11-12T10:41:36.306189Z",
     "iopub.status.idle": "2020-11-12T10:41:36.420482Z",
     "shell.execute_reply": "2020-11-12T10:41:36.419867Z"
    },
    "papermill": {
     "duration": 0.174419,
     "end_time": "2020-11-12T10:41:36.420586",
     "exception": false,
     "start_time": "2020-11-12T10:41:36.246167",
     "status": "completed"
    },
    "tags": []
   },
   "outputs": [
    {
     "data": {
      "text/plain": [
       "<matplotlib.axes._subplots.AxesSubplot at 0x7fe8fd339990>"
      ]
     },
     "execution_count": 14,
     "metadata": {},
     "output_type": "execute_result"
    },
    {
     "data": {
      "image/png": "[encoded data removed]",
      "text/plain": [
       "<Figure size 432x288 with 1 Axes>"
      ]
     },
     "metadata": {
      "needs_background": "light"
     },
     "output_type": "display_data"
    }
   ],
   "source": [
    "sns.boxplot(x='target',y='restbp',data=heart_data)"
   ]
  },
  {
   "cell_type": "markdown",
   "metadata": {
    "papermill": {
     "duration": 0.064287,
     "end_time": "2020-11-12T10:41:36.535517",
     "exception": false,
     "start_time": "2020-11-12T10:41:36.471230",
     "status": "completed"
    },
    "tags": []
   },
   "source": [
    "Both the target classes have the same median. The IQR of '0' label is larger than '1'. There are some outliers, such as restbp of 200. This blood pressure would mean abnormal heart behaviour. "
   ]
  },
  {
   "cell_type": "code",
   "execution_count": 15,
   "metadata": {
    "execution": {
     "iopub.execute_input": "2020-11-12T10:41:36.667052Z",
     "iopub.status.busy": "2020-11-12T10:41:36.666151Z",
     "iopub.status.idle": "2020-11-12T10:41:36.778787Z",
     "shell.execute_reply": "2020-11-12T10:41:36.778279Z"
    },
    "papermill": {
     "duration": 0.172493,
     "end_time": "2020-11-12T10:41:36.778922",
     "exception": false,
     "start_time": "2020-11-12T10:41:36.606429",
     "status": "completed"
    },
    "tags": []
   },
   "outputs": [
    {
     "data": {
      "text/plain": [
       "<matplotlib.axes._subplots.AxesSubplot at 0x7fe8fc081510>"
      ]
     },
     "execution_count": 15,
     "metadata": {},
     "output_type": "execute_result"
    },
    {
     "data": {
      "image/png": "[encoded data removed]",
      "text/plain": [
       "<Figure size 432x288 with 1 Axes>"
      ]
     },
     "metadata": {
      "needs_background": "light"
     },
     "output_type": "display_data"
    }
   ],
   "source": [
    "sns.boxplot(x='target',y='chol',data=heart_data)"
   ]
  },
  {
   "cell_type": "markdown",
   "metadata": {
    "papermill": {
     "duration": 0.051474,
     "end_time": "2020-11-12T10:41:36.881994",
     "exception": false,
     "start_time": "2020-11-12T10:41:36.830520",
     "status": "completed"
    },
    "tags": []
   },
   "source": [
    "Both the labels have same ranges. As expected very high cholestrol would result in heart disease, this is visible from the outliers."
   ]
  },
  {
   "cell_type": "code",
   "execution_count": 16,
   "metadata": {
    "execution": {
     "iopub.execute_input": "2020-11-12T10:41:37.005278Z",
     "iopub.status.busy": "2020-11-12T10:41:37.004292Z",
     "iopub.status.idle": "2020-11-12T10:41:37.008783Z",
     "shell.execute_reply": "2020-11-12T10:41:37.008192Z"
    },
    "papermill": {
     "duration": 0.071144,
     "end_time": "2020-11-12T10:41:37.008908",
     "exception": false,
     "start_time": "2020-11-12T10:41:36.937764",
     "status": "completed"
    },
    "tags": []
   },
   "outputs": [
    {
     "data": {
      "text/html": [
       "<div>\n",
       "<style scoped>\n",
       "    .dataframe tbody tr th:only-of-type {\n",
       "        vertical-align: middle;\n",
       "    }\n",
       "\n",
       "    .dataframe tbody tr th {\n",
       "        vertical-align: top;\n",
       "    }\n",
       "\n",
       "    .dataframe thead th {\n",
       "        text-align: right;\n",
       "    }\n",
       "</style>\n",
       "<table border=\"1\" class=\"dataframe\">\n",
       "  <thead>\n",
       "    <tr style=\"text-align: right;\">\n",
       "      <th>target</th>\n",
       "      <th>0</th>\n",
       "      <th>1</th>\n",
       "      <th>per</th>\n",
       "    </tr>\n",
       "    <tr>\n",
       "      <th>fbs</th>\n",
       "      <th></th>\n",
       "      <th></th>\n",
       "      <th></th>\n",
       "    </tr>\n",
       "  </thead>\n",
       "  <tbody>\n",
       "    <tr>\n",
       "      <th>0</th>\n",
       "      <td>116</td>\n",
       "      <td>142</td>\n",
       "      <td>55.04</td>\n",
       "    </tr>\n",
       "    <tr>\n",
       "      <th>1</th>\n",
       "      <td>22</td>\n",
       "      <td>23</td>\n",
       "      <td>51.11</td>\n",
       "    </tr>\n",
       "  </tbody>\n",
       "</table>\n",
       "</div>"
      ],
      "text/plain": [
       "target    0    1    per\n",
       "fbs                    \n",
       "0       116  142  55.04\n",
       "1        22   23  51.11"
      ]
     },
     "execution_count": 16,
     "metadata": {},
     "output_type": "execute_result"
    }
   ],
   "source": [
    "fbs = heart_data.groupby(['fbs','target'])['target'].count().unstack()\n",
    "fbs['per'] = round((fbs[1]/(fbs[0]+fbs[1]))*100,2)\n",
    "fbs"
   ]
  },
  {
   "cell_type": "markdown",
   "metadata": {
    "papermill": {
     "duration": 0.052528,
     "end_time": "2020-11-12T10:41:37.114145",
     "exception": false,
     "start_time": "2020-11-12T10:41:37.061617",
     "status": "completed"
    },
    "tags": []
   },
   "source": [
    "Nothing conclusive can be obtained from fasting blood sugar."
   ]
  },
  {
   "cell_type": "code",
   "execution_count": 17,
   "metadata": {
    "execution": {
     "iopub.execute_input": "2020-11-12T10:41:37.234501Z",
     "iopub.status.busy": "2020-11-12T10:41:37.233670Z",
     "iopub.status.idle": "2020-11-12T10:41:37.237989Z",
     "shell.execute_reply": "2020-11-12T10:41:37.237343Z"
    },
    "papermill": {
     "duration": 0.071378,
     "end_time": "2020-11-12T10:41:37.238120",
     "exception": false,
     "start_time": "2020-11-12T10:41:37.166742",
     "status": "completed"
    },
    "tags": []
   },
   "outputs": [
    {
     "data": {
      "text/html": [
       "<div>\n",
       "<style scoped>\n",
       "    .dataframe tbody tr th:only-of-type {\n",
       "        vertical-align: middle;\n",
       "    }\n",
       "\n",
       "    .dataframe tbody tr th {\n",
       "        vertical-align: top;\n",
       "    }\n",
       "\n",
       "    .dataframe thead th {\n",
       "        text-align: right;\n",
       "    }\n",
       "</style>\n",
       "<table border=\"1\" class=\"dataframe\">\n",
       "  <thead>\n",
       "    <tr style=\"text-align: right;\">\n",
       "      <th>target</th>\n",
       "      <th>0</th>\n",
       "      <th>1</th>\n",
       "      <th>per</th>\n",
       "    </tr>\n",
       "    <tr>\n",
       "      <th>restecg</th>\n",
       "      <th></th>\n",
       "      <th></th>\n",
       "      <th></th>\n",
       "    </tr>\n",
       "  </thead>\n",
       "  <tbody>\n",
       "    <tr>\n",
       "      <th>0</th>\n",
       "      <td>79</td>\n",
       "      <td>68</td>\n",
       "      <td>46.26</td>\n",
       "    </tr>\n",
       "    <tr>\n",
       "      <th>1</th>\n",
       "      <td>56</td>\n",
       "      <td>96</td>\n",
       "      <td>63.16</td>\n",
       "    </tr>\n",
       "    <tr>\n",
       "      <th>2</th>\n",
       "      <td>3</td>\n",
       "      <td>1</td>\n",
       "      <td>25.00</td>\n",
       "    </tr>\n",
       "  </tbody>\n",
       "</table>\n",
       "</div>"
      ],
      "text/plain": [
       "target    0   1    per\n",
       "restecg               \n",
       "0        79  68  46.26\n",
       "1        56  96  63.16\n",
       "2         3   1  25.00"
      ]
     },
     "execution_count": 17,
     "metadata": {},
     "output_type": "execute_result"
    }
   ],
   "source": [
    "restecg = heart_data.groupby(['restecg','target'])['target'].count().unstack()\n",
    "restecg['per'] = round((restecg[1]/(restecg[0]+restecg[1]))*100,2)\n",
    "restecg"
   ]
  },
  {
   "cell_type": "markdown",
   "metadata": {
    "papermill": {
     "duration": 0.051818,
     "end_time": "2020-11-12T10:41:37.387604",
     "exception": false,
     "start_time": "2020-11-12T10:41:37.335786",
     "status": "completed"
    },
    "tags": []
   },
   "source": [
    "The ecg result of 1 has a higher chance of heart disease."
   ]
  },
  {
   "cell_type": "code",
   "execution_count": 18,
   "metadata": {
    "execution": {
     "iopub.execute_input": "2020-11-12T10:41:37.505214Z",
     "iopub.status.busy": "2020-11-12T10:41:37.504519Z",
     "iopub.status.idle": "2020-11-12T10:41:37.621483Z",
     "shell.execute_reply": "2020-11-12T10:41:37.622000Z"
    },
    "papermill": {
     "duration": 0.182198,
     "end_time": "2020-11-12T10:41:37.622175",
     "exception": false,
     "start_time": "2020-11-12T10:41:37.439977",
     "status": "completed"
    },
    "tags": []
   },
   "outputs": [
    {
     "data": {
      "text/plain": [
       "<matplotlib.axes._subplots.AxesSubplot at 0x7fe8f6f50fd0>"
      ]
     },
     "execution_count": 18,
     "metadata": {},
     "output_type": "execute_result"
    },
    {
     "data": {
      "image/png": "[encoded data removed]",
      "text/plain": [
       "<Figure size 432x288 with 1 Axes>"
      ]
     },
     "metadata": {
      "needs_background": "light"
     },
     "output_type": "display_data"
    }
   ],
   "source": [
    "sns.boxplot(x='target',y='maxhr',data=heart_data)"
   ]
  },
  {
   "cell_type": "markdown",
   "metadata": {
    "papermill": {
     "duration": 0.053273,
     "end_time": "2020-11-12T10:41:37.728233",
     "exception": false,
     "start_time": "2020-11-12T10:41:37.674960",
     "status": "completed"
    },
    "tags": []
   },
   "source": [
    "As expected higher heart rate results in higher chance of heart disease. "
   ]
  },
  {
   "cell_type": "code",
   "execution_count": 19,
   "metadata": {
    "execution": {
     "iopub.execute_input": "2020-11-12T10:41:37.850556Z",
     "iopub.status.busy": "2020-11-12T10:41:37.843413Z",
     "iopub.status.idle": "2020-11-12T10:41:37.854009Z",
     "shell.execute_reply": "2020-11-12T10:41:37.854476Z"
    },
    "papermill": {
     "duration": 0.07277,
     "end_time": "2020-11-12T10:41:37.854622",
     "exception": false,
     "start_time": "2020-11-12T10:41:37.781852",
     "status": "completed"
    },
    "tags": []
   },
   "outputs": [
    {
     "data": {
      "text/html": [
       "<div>\n",
       "<style scoped>\n",
       "    .dataframe tbody tr th:only-of-type {\n",
       "        vertical-align: middle;\n",
       "    }\n",
       "\n",
       "    .dataframe tbody tr th {\n",
       "        vertical-align: top;\n",
       "    }\n",
       "\n",
       "    .dataframe thead th {\n",
       "        text-align: right;\n",
       "    }\n",
       "</style>\n",
       "<table border=\"1\" class=\"dataframe\">\n",
       "  <thead>\n",
       "    <tr style=\"text-align: right;\">\n",
       "      <th>target</th>\n",
       "      <th>0</th>\n",
       "      <th>1</th>\n",
       "      <th>per</th>\n",
       "    </tr>\n",
       "    <tr>\n",
       "      <th>exang</th>\n",
       "      <th></th>\n",
       "      <th></th>\n",
       "      <th></th>\n",
       "    </tr>\n",
       "  </thead>\n",
       "  <tbody>\n",
       "    <tr>\n",
       "      <th>0</th>\n",
       "      <td>62</td>\n",
       "      <td>142</td>\n",
       "      <td>69.61</td>\n",
       "    </tr>\n",
       "    <tr>\n",
       "      <th>1</th>\n",
       "      <td>76</td>\n",
       "      <td>23</td>\n",
       "      <td>23.23</td>\n",
       "    </tr>\n",
       "  </tbody>\n",
       "</table>\n",
       "</div>"
      ],
      "text/plain": [
       "target   0    1    per\n",
       "exang                 \n",
       "0       62  142  69.61\n",
       "1       76   23  23.23"
      ]
     },
     "execution_count": 19,
     "metadata": {},
     "output_type": "execute_result"
    }
   ],
   "source": [
    "ex = heart_data.groupby(['exang','target'])['target'].count().unstack()\n",
    "ex['per'] = round((ex[1]/(ex[0]+ex[1]))*100,2)\n",
    "ex"
   ]
  },
  {
   "cell_type": "markdown",
   "metadata": {
    "papermill": {
     "duration": 0.054077,
     "end_time": "2020-11-12T10:41:37.963861",
     "exception": false,
     "start_time": "2020-11-12T10:41:37.909784",
     "status": "completed"
    },
    "tags": []
   },
   "source": [
    "It is surprising to see that no angina results in higher chance of heart disease and angina results in less chance of heart disease."
   ]
  },
  {
   "cell_type": "code",
   "execution_count": 20,
   "metadata": {
    "execution": {
     "iopub.execute_input": "2020-11-12T10:41:38.081829Z",
     "iopub.status.busy": "2020-11-12T10:41:38.080861Z",
     "iopub.status.idle": "2020-11-12T10:41:38.202969Z",
     "shell.execute_reply": "2020-11-12T10:41:38.202354Z"
    },
    "papermill": {
     "duration": 0.183411,
     "end_time": "2020-11-12T10:41:38.203079",
     "exception": false,
     "start_time": "2020-11-12T10:41:38.019668",
     "status": "completed"
    },
    "tags": []
   },
   "outputs": [
    {
     "data": {
      "text/plain": [
       "<matplotlib.axes._subplots.AxesSubplot at 0x7fe8f6edcb90>"
      ]
     },
     "execution_count": 20,
     "metadata": {},
     "output_type": "execute_result"
    },
    {
     "data": {
      "image/png": "[encoded data removed]",
      "text/plain": [
       "<Figure size 432x288 with 1 Axes>"
      ]
     },
     "metadata": {
      "needs_background": "light"
     },
     "output_type": "display_data"
    }
   ],
   "source": [
    "sns.boxplot(x='target',y='oldpeak',data=heart_data)"
   ]
  },
  {
   "cell_type": "markdown",
   "metadata": {
    "papermill": {
     "duration": 0.056873,
     "end_time": "2020-11-12T10:41:38.317048",
     "exception": false,
     "start_time": "2020-11-12T10:41:38.260175",
     "status": "completed"
    },
    "tags": []
   },
   "source": [
    "Very low depression results in higher chance of heart disease. A higher ST depression is seen in normal patients."
   ]
  },
  {
   "cell_type": "code",
   "execution_count": 21,
   "metadata": {
    "execution": {
     "iopub.execute_input": "2020-11-12T10:41:38.444596Z",
     "iopub.status.busy": "2020-11-12T10:41:38.443740Z",
     "iopub.status.idle": "2020-11-12T10:41:38.448171Z",
     "shell.execute_reply": "2020-11-12T10:41:38.447525Z"
    },
    "papermill": {
     "duration": 0.074429,
     "end_time": "2020-11-12T10:41:38.448290",
     "exception": false,
     "start_time": "2020-11-12T10:41:38.373861",
     "status": "completed"
    },
    "tags": []
   },
   "outputs": [
    {
     "data": {
      "text/html": [
       "<div>\n",
       "<style scoped>\n",
       "    .dataframe tbody tr th:only-of-type {\n",
       "        vertical-align: middle;\n",
       "    }\n",
       "\n",
       "    .dataframe tbody tr th {\n",
       "        vertical-align: top;\n",
       "    }\n",
       "\n",
       "    .dataframe thead th {\n",
       "        text-align: right;\n",
       "    }\n",
       "</style>\n",
       "<table border=\"1\" class=\"dataframe\">\n",
       "  <thead>\n",
       "    <tr style=\"text-align: right;\">\n",
       "      <th>target</th>\n",
       "      <th>0</th>\n",
       "      <th>1</th>\n",
       "      <th>per</th>\n",
       "    </tr>\n",
       "    <tr>\n",
       "      <th>slope</th>\n",
       "      <th></th>\n",
       "      <th></th>\n",
       "      <th></th>\n",
       "    </tr>\n",
       "  </thead>\n",
       "  <tbody>\n",
       "    <tr>\n",
       "      <th>0</th>\n",
       "      <td>12</td>\n",
       "      <td>9</td>\n",
       "      <td>42.86</td>\n",
       "    </tr>\n",
       "    <tr>\n",
       "      <th>1</th>\n",
       "      <td>91</td>\n",
       "      <td>49</td>\n",
       "      <td>35.00</td>\n",
       "    </tr>\n",
       "    <tr>\n",
       "      <th>2</th>\n",
       "      <td>35</td>\n",
       "      <td>107</td>\n",
       "      <td>75.35</td>\n",
       "    </tr>\n",
       "  </tbody>\n",
       "</table>\n",
       "</div>"
      ],
      "text/plain": [
       "target   0    1    per\n",
       "slope                 \n",
       "0       12    9  42.86\n",
       "1       91   49  35.00\n",
       "2       35  107  75.35"
      ]
     },
     "execution_count": 21,
     "metadata": {},
     "output_type": "execute_result"
    }
   ],
   "source": [
    "sl = heart_data.groupby(['slope','target'])['target'].count().unstack()\n",
    "sl['per'] = round((sl[1]/(sl[0]+sl[1]))*100,2)\n",
    "sl"
   ]
  },
  {
   "cell_type": "markdown",
   "metadata": {
    "papermill": {
     "duration": 0.055958,
     "end_time": "2020-11-12T10:41:38.561272",
     "exception": false,
     "start_time": "2020-11-12T10:41:38.505314",
     "status": "completed"
    },
    "tags": []
   },
   "source": [
    "A flat slope results in less chance of heart disease and down slope has a higher chance of disease."
   ]
  },
  {
   "cell_type": "code",
   "execution_count": 22,
   "metadata": {
    "execution": {
     "iopub.execute_input": "2020-11-12T10:41:38.679224Z",
     "iopub.status.busy": "2020-11-12T10:41:38.678561Z",
     "iopub.status.idle": "2020-11-12T10:41:38.691500Z",
     "shell.execute_reply": "2020-11-12T10:41:38.690918Z"
    },
    "papermill": {
     "duration": 0.074708,
     "end_time": "2020-11-12T10:41:38.691617",
     "exception": false,
     "start_time": "2020-11-12T10:41:38.616909",
     "status": "completed"
    },
    "tags": []
   },
   "outputs": [
    {
     "data": {
      "text/html": [
       "<div>\n",
       "<style scoped>\n",
       "    .dataframe tbody tr th:only-of-type {\n",
       "        vertical-align: middle;\n",
       "    }\n",
       "\n",
       "    .dataframe tbody tr th {\n",
       "        vertical-align: top;\n",
       "    }\n",
       "\n",
       "    .dataframe thead th {\n",
       "        text-align: right;\n",
       "    }\n",
       "</style>\n",
       "<table border=\"1\" class=\"dataframe\">\n",
       "  <thead>\n",
       "    <tr style=\"text-align: right;\">\n",
       "      <th>target</th>\n",
       "      <th>0</th>\n",
       "      <th>1</th>\n",
       "      <th>per</th>\n",
       "    </tr>\n",
       "    <tr>\n",
       "      <th>nmv</th>\n",
       "      <th></th>\n",
       "      <th></th>\n",
       "      <th></th>\n",
       "    </tr>\n",
       "  </thead>\n",
       "  <tbody>\n",
       "    <tr>\n",
       "      <th>0</th>\n",
       "      <td>45</td>\n",
       "      <td>130</td>\n",
       "      <td>74.29</td>\n",
       "    </tr>\n",
       "    <tr>\n",
       "      <th>1</th>\n",
       "      <td>44</td>\n",
       "      <td>21</td>\n",
       "      <td>32.31</td>\n",
       "    </tr>\n",
       "    <tr>\n",
       "      <th>2</th>\n",
       "      <td>31</td>\n",
       "      <td>7</td>\n",
       "      <td>18.42</td>\n",
       "    </tr>\n",
       "    <tr>\n",
       "      <th>3</th>\n",
       "      <td>17</td>\n",
       "      <td>3</td>\n",
       "      <td>15.00</td>\n",
       "    </tr>\n",
       "    <tr>\n",
       "      <th>4</th>\n",
       "      <td>1</td>\n",
       "      <td>4</td>\n",
       "      <td>80.00</td>\n",
       "    </tr>\n",
       "  </tbody>\n",
       "</table>\n",
       "</div>"
      ],
      "text/plain": [
       "target   0    1    per\n",
       "nmv                   \n",
       "0       45  130  74.29\n",
       "1       44   21  32.31\n",
       "2       31    7  18.42\n",
       "3       17    3  15.00\n",
       "4        1    4  80.00"
      ]
     },
     "execution_count": 22,
     "metadata": {},
     "output_type": "execute_result"
    }
   ],
   "source": [
    "nmv = heart_data.groupby(['nmv','target'])['target'].count().unstack()\n",
    "nmv['per'] = round((nmv[1]/(nmv[0]+nmv[1]))*100,2)\n",
    "nmv"
   ]
  },
  {
   "cell_type": "markdown",
   "metadata": {
    "papermill": {
     "duration": 0.056312,
     "end_time": "2020-11-12T10:41:38.804754",
     "exception": false,
     "start_time": "2020-11-12T10:41:38.748442",
     "status": "completed"
    },
    "tags": []
   },
   "source": [
    "very low and very high vessels results in heart disease. But mid range vessels have a lower chance of disease."
   ]
  },
  {
   "cell_type": "code",
   "execution_count": 23,
   "metadata": {
    "execution": {
     "iopub.execute_input": "2020-11-12T10:41:38.932529Z",
     "iopub.status.busy": "2020-11-12T10:41:38.925517Z",
     "iopub.status.idle": "2020-11-12T10:41:38.936825Z",
     "shell.execute_reply": "2020-11-12T10:41:38.936360Z"
    },
    "papermill": {
     "duration": 0.075678,
     "end_time": "2020-11-12T10:41:38.936953",
     "exception": false,
     "start_time": "2020-11-12T10:41:38.861275",
     "status": "completed"
    },
    "tags": []
   },
   "outputs": [
    {
     "data": {
      "text/html": [
       "<div>\n",
       "<style scoped>\n",
       "    .dataframe tbody tr th:only-of-type {\n",
       "        vertical-align: middle;\n",
       "    }\n",
       "\n",
       "    .dataframe tbody tr th {\n",
       "        vertical-align: top;\n",
       "    }\n",
       "\n",
       "    .dataframe thead th {\n",
       "        text-align: right;\n",
       "    }\n",
       "</style>\n",
       "<table border=\"1\" class=\"dataframe\">\n",
       "  <thead>\n",
       "    <tr style=\"text-align: right;\">\n",
       "      <th>target</th>\n",
       "      <th>0</th>\n",
       "      <th>1</th>\n",
       "      <th>per</th>\n",
       "    </tr>\n",
       "    <tr>\n",
       "      <th>thal</th>\n",
       "      <th></th>\n",
       "      <th></th>\n",
       "      <th></th>\n",
       "    </tr>\n",
       "  </thead>\n",
       "  <tbody>\n",
       "    <tr>\n",
       "      <th>0</th>\n",
       "      <td>1</td>\n",
       "      <td>1</td>\n",
       "      <td>50.00</td>\n",
       "    </tr>\n",
       "    <tr>\n",
       "      <th>1</th>\n",
       "      <td>12</td>\n",
       "      <td>6</td>\n",
       "      <td>33.33</td>\n",
       "    </tr>\n",
       "    <tr>\n",
       "      <th>2</th>\n",
       "      <td>36</td>\n",
       "      <td>130</td>\n",
       "      <td>78.31</td>\n",
       "    </tr>\n",
       "    <tr>\n",
       "      <th>3</th>\n",
       "      <td>89</td>\n",
       "      <td>28</td>\n",
       "      <td>23.93</td>\n",
       "    </tr>\n",
       "  </tbody>\n",
       "</table>\n",
       "</div>"
      ],
      "text/plain": [
       "target   0    1    per\n",
       "thal                  \n",
       "0        1    1  50.00\n",
       "1       12    6  33.33\n",
       "2       36  130  78.31\n",
       "3       89   28  23.93"
      ]
     },
     "execution_count": 23,
     "metadata": {},
     "output_type": "execute_result"
    }
   ],
   "source": [
    "thal = heart_data.groupby(['thal','target'])['target'].count().unstack()\n",
    "thal['per'] = round((thal[1]/(thal[0]+thal[1]))*100,2)\n",
    "thal"
   ]
  },
  {
   "cell_type": "markdown",
   "metadata": {
    "papermill": {
     "duration": 0.057326,
     "end_time": "2020-11-12T10:41:39.052100",
     "exception": false,
     "start_time": "2020-11-12T10:41:38.994774",
     "status": "completed"
    },
    "tags": []
   },
   "source": [
    "As expected irreversible defects have a higher chance of disease and reversible defects have a lower chance.\n",
    "\n",
    "Let's create a new variable using age and sex."
   ]
  },
  {
   "cell_type": "code",
   "execution_count": 24,
   "metadata": {
    "execution": {
     "iopub.execute_input": "2020-11-12T10:41:39.174632Z",
     "iopub.status.busy": "2020-11-12T10:41:39.173906Z",
     "iopub.status.idle": "2020-11-12T10:41:39.176722Z",
     "shell.execute_reply": "2020-11-12T10:41:39.176133Z"
    },
    "papermill": {
     "duration": 0.068066,
     "end_time": "2020-11-12T10:41:39.176831",
     "exception": false,
     "start_time": "2020-11-12T10:41:39.108765",
     "status": "completed"
    },
    "tags": []
   },
   "outputs": [],
   "source": [
    "heart_data['age']=heart_data['age'].astype('int')\n",
    "heart_data['age_sex'] = heart_data['age']*heart_data['sex']"
   ]
  },
  {
   "cell_type": "markdown",
   "metadata": {
    "papermill": {
     "duration": 0.057351,
     "end_time": "2020-11-12T10:41:39.292819",
     "exception": false,
     "start_time": "2020-11-12T10:41:39.235468",
     "status": "completed"
    },
    "tags": []
   },
   "source": [
    "Let's check the correlation between features."
   ]
  },
  {
   "cell_type": "code",
   "execution_count": 25,
   "metadata": {
    "execution": {
     "iopub.execute_input": "2020-11-12T10:41:39.414781Z",
     "iopub.status.busy": "2020-11-12T10:41:39.412340Z",
     "iopub.status.idle": "2020-11-12T10:41:40.517199Z",
     "shell.execute_reply": "2020-11-12T10:41:40.517682Z"
    },
    "papermill": {
     "duration": 1.167967,
     "end_time": "2020-11-12T10:41:40.517827",
     "exception": false,
     "start_time": "2020-11-12T10:41:39.349860",
     "status": "completed"
    },
    "tags": []
   },
   "outputs": [
    {
     "data": {
      "text/plain": [
       "<matplotlib.axes._subplots.AxesSubplot at 0x7fe8f6e6b2d0>"
      ]
     },
     "execution_count": 25,
     "metadata": {},
     "output_type": "execute_result"
    },
    {
     "data": {
      "image/png": "[encoded data removed]",
      "text/plain": [
       "<Figure size 1440x432 with 2 Axes>"
      ]
     },
     "metadata": {
      "needs_background": "light"
     },
     "output_type": "display_data"
    }
   ],
   "source": [
    "c = heart_data.corr()\n",
    "plt.figure(figsize=(20,6))\n",
    "sns.heatmap(c,annot=True,fmt='f')"
   ]
  },
  {
   "cell_type": "markdown",
   "metadata": {
    "papermill": {
     "duration": 0.063741,
     "end_time": "2020-11-12T10:41:40.645645",
     "exception": false,
     "start_time": "2020-11-12T10:41:40.581904",
     "status": "completed"
    },
    "tags": []
   },
   "source": [
    "We can observe 'cp' and 'maxhr' have a decent positive correlation with our target variables. Features such as 'exang','oldpeak','nmv','thal' and 'age_sex' have a negative correlation."
   ]
  },
  {
   "cell_type": "markdown",
   "metadata": {
    "papermill": {
     "duration": 0.063783,
     "end_time": "2020-11-12T10:41:40.773843",
     "exception": false,
     "start_time": "2020-11-12T10:41:40.710060",
     "status": "completed"
    },
    "tags": []
   },
   "source": [
    "# Model Fitting"
   ]
  },
  {
   "cell_type": "markdown",
   "metadata": {
    "papermill": {
     "duration": 0.063975,
     "end_time": "2020-11-12T10:41:40.902295",
     "exception": false,
     "start_time": "2020-11-12T10:41:40.838320",
     "status": "completed"
    },
    "tags": []
   },
   "source": [
    "Here we will select the features we will use for prediction. We will select features which have a decent correlation with our target variable. Also we will make use of MinMaxScaler to reduce the range of 'restbp' and 'maxhr' to avoid bias towards them. We make use of training set to find the optimum parameters for our models and make use of KFold to check the performance of our model. The metric which we will use for evaluation will be F1 score. Since we need to reduce the false negatives, F1 score is a better metric than accuracy score. The reason being F1 score includes both precision and recall."
   ]
  },
  {
   "cell_type": "code",
   "execution_count": 26,
   "metadata": {
    "execution": {
     "iopub.execute_input": "2020-11-12T10:41:41.038435Z",
     "iopub.status.busy": "2020-11-12T10:41:41.037660Z",
     "iopub.status.idle": "2020-11-12T10:41:41.160260Z",
     "shell.execute_reply": "2020-11-12T10:41:41.159492Z"
    },
    "papermill": {
     "duration": 0.194565,
     "end_time": "2020-11-12T10:41:41.160401",
     "exception": false,
     "start_time": "2020-11-12T10:41:40.965836",
     "status": "completed"
    },
    "tags": []
   },
   "outputs": [],
   "source": [
    "from sklearn.model_selection import train_test_split as tts\n",
    "from sklearn.model_selection import KFold\n",
    "from sklearn.metrics import f1_score as fs\n",
    "from statistics import mean\n",
    "from sklearn.preprocessing import MinMaxScaler as MMS\n",
    "heart_data['mms_restbp'] = MMS().fit_transform(heart_data[['restbp']])\n",
    "heart_data['mms_maxhr'] = MMS().fit_transform(heart_data[['maxhr']])\n",
    "x = heart_data[['age_sex','cp','mms_restbp','restecg','mms_maxhr','exang','oldpeak','slope','nmv','thal']]\n",
    "y = heart_data['target']\n",
    "xtrain,xtest,ytrain,ytest = tts(x,y,test_size=0.2,random_state=100)\n",
    "kf = KFold(n_splits=5,shuffle=True,random_state=100)"
   ]
  },
  {
   "cell_type": "markdown",
   "metadata": {
    "papermill": {
     "duration": 0.063645,
     "end_time": "2020-11-12T10:41:41.286700",
     "exception": false,
     "start_time": "2020-11-12T10:41:41.223055",
     "status": "completed"
    },
    "tags": []
   },
   "source": [
    "### K Nearest Neighbors"
   ]
  },
  {
   "cell_type": "markdown",
   "metadata": {
    "papermill": {
     "duration": 0.063104,
     "end_time": "2020-11-12T10:41:41.413325",
     "exception": false,
     "start_time": "2020-11-12T10:41:41.350221",
     "status": "completed"
    },
    "tags": []
   },
   "source": [
    "We need to find the optimum number of neighbors for our model. Hence we will compare the F1 scores obtained for various values for our neighbors."
   ]
  },
  {
   "cell_type": "code",
   "execution_count": 27,
   "metadata": {
    "execution": {
     "iopub.execute_input": "2020-11-12T10:41:41.550628Z",
     "iopub.status.busy": "2020-11-12T10:41:41.549979Z",
     "iopub.status.idle": "2020-11-12T10:41:42.843932Z",
     "shell.execute_reply": "2020-11-12T10:41:42.843442Z"
    },
    "papermill": {
     "duration": 1.367508,
     "end_time": "2020-11-12T10:41:42.844044",
     "exception": false,
     "start_time": "2020-11-12T10:41:41.476536",
     "status": "completed"
    },
    "tags": []
   },
   "outputs": [
    {
     "data": {
      "text/plain": [
       "<matplotlib.legend.Legend at 0x7fe8f4063290>"
      ]
     },
     "execution_count": 27,
     "metadata": {},
     "output_type": "execute_result"
    },
    {
     "data": {
      "image/png": "[encoded data removed]",
      "text/plain": [
       "<Figure size 432x288 with 1 Axes>"
      ]
     },
     "metadata": {
      "needs_background": "light"
     },
     "output_type": "display_data"
    }
   ],
   "source": [
    "from sklearn.neighbors import KNeighborsClassifier as KNC\n",
    "neighbors,scores_train,scores_test = [i for i in range(1,20)],[],[]\n",
    "for n in neighbors:\n",
    "    score_train,score_test = [],[]\n",
    "    for train,test in kf.split(xtrain):\n",
    "        xtr,xtt = xtrain.iloc[train],xtrain.iloc[test]\n",
    "        ytr,ytt = ytrain.iloc[train],ytrain.iloc[test]\n",
    "        knc = KNC(n_neighbors=n,weights='distance') #Giving weight to the distance of neighbors\n",
    "        knc.fit(xtr,ytr)\n",
    "        yhat_train = knc.predict(xtr)\n",
    "        yhat_test = knc.predict(xtt)\n",
    "        score_train.append(round(fs(ytr,yhat_train),2))\n",
    "        score_test.append(round(fs(ytt,yhat_test),2))\n",
    "    scores_train.append(mean(score_train))\n",
    "    scores_test.append(mean(score_test))\n",
    "sns.lineplot(x=neighbors,y=scores_train,color='r')\n",
    "sns.lineplot(x=neighbors,y=scores_test,color='b')\n",
    "plt.legend(('Train','Test'))"
   ]
  },
  {
   "cell_type": "markdown",
   "metadata": {
    "papermill": {
     "duration": 0.062021,
     "end_time": "2020-11-12T10:41:42.968990",
     "exception": false,
     "start_time": "2020-11-12T10:41:42.906969",
     "status": "completed"
    },
    "tags": []
   },
   "source": [
    "The value of optimum neighbors is 8."
   ]
  },
  {
   "cell_type": "markdown",
   "metadata": {
    "papermill": {
     "duration": 0.061952,
     "end_time": "2020-11-12T10:41:43.094262",
     "exception": false,
     "start_time": "2020-11-12T10:41:43.032310",
     "status": "completed"
    },
    "tags": []
   },
   "source": [
    "### Decision Tree"
   ]
  },
  {
   "cell_type": "markdown",
   "metadata": {
    "papermill": {
     "duration": 0.063389,
     "end_time": "2020-11-12T10:41:43.220234",
     "exception": false,
     "start_time": "2020-11-12T10:41:43.156845",
     "status": "completed"
    },
    "tags": []
   },
   "source": [
    "We need to find the optimum depth for our model."
   ]
  },
  {
   "cell_type": "code",
   "execution_count": 28,
   "metadata": {
    "execution": {
     "iopub.execute_input": "2020-11-12T10:41:43.357254Z",
     "iopub.status.busy": "2020-11-12T10:41:43.356611Z",
     "iopub.status.idle": "2020-11-12T10:41:44.212458Z",
     "shell.execute_reply": "2020-11-12T10:41:44.211783Z"
    },
    "papermill": {
     "duration": 0.928628,
     "end_time": "2020-11-12T10:41:44.212575",
     "exception": false,
     "start_time": "2020-11-12T10:41:43.283947",
     "status": "completed"
    },
    "tags": []
   },
   "outputs": [
    {
     "data": {
      "text/plain": [
       "<matplotlib.axes._subplots.AxesSubplot at 0x7fe8ed470c50>"
      ]
     },
     "execution_count": 28,
     "metadata": {},
     "output_type": "execute_result"
    },
    {
     "data": {
      "image/png": "[encoded data removed]",
      "text/plain": [
       "<Figure size 432x288 with 1 Axes>"
      ]
     },
     "metadata": {
      "needs_background": "light"
     },
     "output_type": "display_data"
    }
   ],
   "source": [
    "from sklearn.tree import DecisionTreeClassifier as DTC\n",
    "depths,scores_train,scores_test = [i for i in range(3,20)],[],[]\n",
    "for d in depths:\n",
    "    score_train,score_test = [],[]\n",
    "    for train,test in kf.split(xtrain):\n",
    "        xtr,xtt = xtrain.iloc[train],xtrain.iloc[test]\n",
    "        ytr,ytt = ytrain.iloc[train],ytrain.iloc[test]\n",
    "        dtc = DTC(max_depth=d)\n",
    "        dtc.fit(xtr,ytr)\n",
    "        yhat_train = dtc.predict(xtr)\n",
    "        yhat_test = dtc.predict(xtt)\n",
    "        score_train.append(round(fs(ytr,yhat_train),2))\n",
    "        score_test.append(round(fs(ytt,yhat_test),2))\n",
    "    scores_train.append(mean(score_train))\n",
    "    scores_test.append(mean(score_test))\n",
    "sns.lineplot(x=depths,y=scores_train,color='r')\n",
    "sns.lineplot(x=depths,y=scores_test,color='b')"
   ]
  },
  {
   "cell_type": "markdown",
   "metadata": {
    "papermill": {
     "duration": 0.064587,
     "end_time": "2020-11-12T10:41:44.342409",
     "exception": false,
     "start_time": "2020-11-12T10:41:44.277822",
     "status": "completed"
    },
    "tags": []
   },
   "source": [
    "Depth value of 3 has the highest F1 score but I am certain that this value would underfit the data. Therefore I believe choosing a value of 6 would be better."
   ]
  },
  {
   "cell_type": "markdown",
   "metadata": {
    "papermill": {
     "duration": 0.065625,
     "end_time": "2020-11-12T10:41:44.473242",
     "exception": false,
     "start_time": "2020-11-12T10:41:44.407617",
     "status": "completed"
    },
    "tags": []
   },
   "source": [
    "### Logistic Regression"
   ]
  },
  {
   "cell_type": "markdown",
   "metadata": {
    "papermill": {
     "duration": 0.06351,
     "end_time": "2020-11-12T10:41:44.603594",
     "exception": false,
     "start_time": "2020-11-12T10:41:44.540084",
     "status": "completed"
    },
    "tags": []
   },
   "source": [
    "We need to find the optimum value of regularization factor for our model. Increasing the regularization strength penalizes \"large\" weight coefficients. Our goal is to prevent that our model picks up \"peculiarities,\" \"noise,\" or \"imagines a pattern where there is none.\""
   ]
  },
  {
   "cell_type": "code",
   "execution_count": 29,
   "metadata": {
    "execution": {
     "iopub.execute_input": "2020-11-12T10:41:44.742307Z",
     "iopub.status.busy": "2020-11-12T10:41:44.739509Z",
     "iopub.status.idle": "2020-11-12T10:41:45.269621Z",
     "shell.execute_reply": "2020-11-12T10:41:45.270101Z"
    },
    "papermill": {
     "duration": 0.602812,
     "end_time": "2020-11-12T10:41:45.270253",
     "exception": false,
     "start_time": "2020-11-12T10:41:44.667441",
     "status": "completed"
    },
    "tags": []
   },
   "outputs": [
    {
     "data": {
      "text/plain": [
       "<matplotlib.axes._subplots.AxesSubplot at 0x7fe8ec864f50>"
      ]
     },
     "execution_count": 29,
     "metadata": {},
     "output_type": "execute_result"
    },
    {
     "data": {
      "image/png": "[encoded data removed]",
      "text/plain": [
       "<Figure size 432x288 with 1 Axes>"
      ]
     },
     "metadata": {
      "needs_background": "light"
     },
     "output_type": "display_data"
    }
   ],
   "source": [
    "from sklearn.linear_model import LogisticRegression as LR\n",
    "C,scores_train,scores_test = [0.001,0.005,0.01,0.05,0.1,0.5],[],[]\n",
    "for c in C:\n",
    "    score_train,score_test = [],[]\n",
    "    for train,test in kf.split(xtrain):\n",
    "        xtr,xtt = xtrain.iloc[train],xtrain.iloc[test]\n",
    "        ytr,ytt = ytrain.iloc[train],ytrain.iloc[test]\n",
    "        lr = LR(C=c,max_iter=1000)  # C is Inverse of regularization strength\n",
    "        lr.fit(xtr,ytr)\n",
    "        yhat_train = lr.predict(xtr)\n",
    "        yhat_test = lr.predict(xtt)\n",
    "        score_train.append(round(fs(ytr,yhat_train),2))\n",
    "        score_test.append(round(fs(ytt,yhat_test),2))\n",
    "    scores_train.append(mean(score_train))\n",
    "    scores_test.append(mean(score_test))\n",
    "sns.lineplot(x=C,y=scores_train,color='r')\n",
    "sns.lineplot(x=C,y=scores_test,color='b')"
   ]
  },
  {
   "cell_type": "markdown",
   "metadata": {
    "papermill": {
     "duration": 0.064604,
     "end_time": "2020-11-12T10:41:45.399865",
     "exception": false,
     "start_time": "2020-11-12T10:41:45.335261",
     "status": "completed"
    },
    "tags": []
   },
   "source": [
    "The optimum regularization factor was found to be 0.05."
   ]
  },
  {
   "cell_type": "markdown",
   "metadata": {
    "papermill": {
     "duration": 0.064273,
     "end_time": "2020-11-12T10:41:45.529440",
     "exception": false,
     "start_time": "2020-11-12T10:41:45.465167",
     "status": "completed"
    },
    "tags": []
   },
   "source": [
    "### Gaussian Naive Bayes"
   ]
  },
  {
   "cell_type": "markdown",
   "metadata": {
    "papermill": {
     "duration": 0.064485,
     "end_time": "2020-11-12T10:41:45.659125",
     "exception": false,
     "start_time": "2020-11-12T10:41:45.594640",
     "status": "completed"
    },
    "tags": []
   },
   "source": [
    "This a model where it assumes data to be normally distributed and applies bayes theorem assumptions. There are no parameters to be adjusted in this model."
   ]
  },
  {
   "cell_type": "code",
   "execution_count": 30,
   "metadata": {
    "execution": {
     "iopub.execute_input": "2020-11-12T10:41:45.797273Z",
     "iopub.status.busy": "2020-11-12T10:41:45.796412Z",
     "iopub.status.idle": "2020-11-12T10:41:45.844175Z",
     "shell.execute_reply": "2020-11-12T10:41:45.844780Z"
    },
    "papermill": {
     "duration": 0.121044,
     "end_time": "2020-11-12T10:41:45.844985",
     "exception": false,
     "start_time": "2020-11-12T10:41:45.723941",
     "status": "completed"
    },
    "tags": []
   },
   "outputs": [
    {
     "name": "stdout",
     "output_type": "stream",
     "text": [
      "0.854 0.83\n"
     ]
    }
   ],
   "source": [
    "from sklearn.naive_bayes import GaussianNB as GNB\n",
    "score_train,score_test = [],[]\n",
    "for train,test in kf.split(xtrain):\n",
    "    xtr,xtt = xtrain.iloc[train],xtrain.iloc[test]\n",
    "    ytr,ytt = ytrain.iloc[train],ytrain.iloc[test]\n",
    "    gnb = GNB()\n",
    "    gnb.fit(xtr,ytr)\n",
    "    yhat_train = gnb.predict(xtr)\n",
    "    yhat_test = gnb.predict(xtt)\n",
    "    score_train.append(round(fs(ytr,yhat_train),2))\n",
    "    score_test.append(round(fs(ytt,yhat_test),2))\n",
    "print(mean(score_train),mean(score_test))"
   ]
  },
  {
   "cell_type": "markdown",
   "metadata": {
    "papermill": {
     "duration": 0.066577,
     "end_time": "2020-11-12T10:41:45.979020",
     "exception": false,
     "start_time": "2020-11-12T10:41:45.912443",
     "status": "completed"
    },
    "tags": []
   },
   "source": [
    "### Support Vector Machine"
   ]
  },
  {
   "cell_type": "markdown",
   "metadata": {
    "papermill": {
     "duration": 0.064885,
     "end_time": "2020-11-12T10:41:46.110800",
     "exception": false,
     "start_time": "2020-11-12T10:41:46.045915",
     "status": "completed"
    },
    "tags": []
   },
   "source": [
    "Similar to the logistic regression model, we will try to find the optimum value for the regularization factor."
   ]
  },
  {
   "cell_type": "code",
   "execution_count": 31,
   "metadata": {
    "execution": {
     "iopub.execute_input": "2020-11-12T10:41:46.255760Z",
     "iopub.status.busy": "2020-11-12T10:41:46.255138Z",
     "iopub.status.idle": "2020-11-12T10:41:46.673552Z",
     "shell.execute_reply": "2020-11-12T10:41:46.672996Z"
    },
    "papermill": {
     "duration": 0.497386,
     "end_time": "2020-11-12T10:41:46.673661",
     "exception": false,
     "start_time": "2020-11-12T10:41:46.176275",
     "status": "completed"
    },
    "tags": []
   },
   "outputs": [
    {
     "data": {
      "text/plain": [
       "<matplotlib.axes._subplots.AxesSubplot at 0x7fe8ec7daa10>"
      ]
     },
     "execution_count": 31,
     "metadata": {},
     "output_type": "execute_result"
    },
    {
     "data": {
      "image/png": "[encoded data removed]",
      "text/plain": [
       "<Figure size 432x288 with 1 Axes>"
      ]
     },
     "metadata": {
      "needs_background": "light"
     },
     "output_type": "display_data"
    }
   ],
   "source": [
    "from sklearn.svm import SVC\n",
    "C,scores_train,scores_test = [0.001,0.005,0.01,0.05,0.1,0.5],[],[]\n",
    "for c in C:\n",
    "    score_train,score_test = [],[]\n",
    "    for train,test in kf.split(xtrain):\n",
    "        xtr,xtt = xtrain.iloc[train],xtrain.iloc[test]\n",
    "        ytr,ytt = ytrain.iloc[train],ytrain.iloc[test]\n",
    "        svc = SVC(C=c,kernel='linear')\n",
    "        svc.fit(xtr,ytr)\n",
    "        yhat_train = svc.predict(xtr)\n",
    "        yhat_test = svc.predict(xtt)\n",
    "        score_train.append(round(fs(ytr,yhat_train),2))\n",
    "        score_test.append(round(fs(ytt,yhat_test),2))\n",
    "    scores_train.append(mean(score_train))\n",
    "    scores_test.append(mean(score_test))\n",
    "sns.lineplot(x=C,y=scores_train,color='r')\n",
    "sns.lineplot(x=C,y=scores_test,color='b')"
   ]
  },
  {
   "cell_type": "markdown",
   "metadata": {
    "papermill": {
     "duration": 0.065664,
     "end_time": "2020-11-12T10:41:46.806081",
     "exception": false,
     "start_time": "2020-11-12T10:41:46.740417",
     "status": "completed"
    },
    "tags": []
   },
   "source": [
    "The optimum value is 0.1"
   ]
  },
  {
   "cell_type": "markdown",
   "metadata": {
    "papermill": {
     "duration": 0.065602,
     "end_time": "2020-11-12T10:41:46.937669",
     "exception": false,
     "start_time": "2020-11-12T10:41:46.872067",
     "status": "completed"
    },
    "tags": []
   },
   "source": [
    "### Random Forest Classifier"
   ]
  },
  {
   "cell_type": "markdown",
   "metadata": {
    "papermill": {
     "duration": 0.066591,
     "end_time": "2020-11-12T10:41:47.070973",
     "exception": false,
     "start_time": "2020-11-12T10:41:47.004382",
     "status": "completed"
    },
    "tags": []
   },
   "source": [
    "This model creates various trees and finds the average of all the trees. We will need to find the optimum number of trees to be considered for this model. We will use the maximum depth which we found from the DTC model."
   ]
  },
  {
   "cell_type": "code",
   "execution_count": 32,
   "metadata": {
    "execution": {
     "iopub.execute_input": "2020-11-12T10:41:47.213463Z",
     "iopub.status.busy": "2020-11-12T10:41:47.212780Z",
     "iopub.status.idle": "2020-11-12T10:42:10.109671Z",
     "shell.execute_reply": "2020-11-12T10:42:10.109047Z"
    },
    "papermill": {
     "duration": 22.97297,
     "end_time": "2020-11-12T10:42:10.109783",
     "exception": false,
     "start_time": "2020-11-12T10:41:47.136813",
     "status": "completed"
    },
    "tags": []
   },
   "outputs": [
    {
     "data": {
      "text/plain": [
       "<matplotlib.axes._subplots.AxesSubplot at 0x7fe8ec7714d0>"
      ]
     },
     "execution_count": 32,
     "metadata": {},
     "output_type": "execute_result"
    },
    {
     "data": {
      "image/png": "[encoded data removed]",
      "text/plain": [
       "<Figure size 432x288 with 1 Axes>"
      ]
     },
     "metadata": {
      "needs_background": "light"
     },
     "output_type": "display_data"
    }
   ],
   "source": [
    "from sklearn.ensemble import RandomForestClassifier as RFC\n",
    "estimators,scores_train,scores_test = [100,150,200,250,300,350,400,450,500],[],[]\n",
    "for e in estimators:\n",
    "    score_train,score_test = [],[]\n",
    "    for train,test in kf.split(xtrain):\n",
    "        xtr,xtt = xtrain.iloc[train],xtrain.iloc[test]\n",
    "        ytr,ytt = ytrain.iloc[train],ytrain.iloc[test]\n",
    "        rfc = RFC(n_estimators=e,max_depth=6)\n",
    "        rfc.fit(xtr,ytr)\n",
    "        yhat_train = rfc.predict(xtr)\n",
    "        yhat_test = rfc.predict(xtt)\n",
    "        score_train.append(round(fs(ytr,yhat_train),2))\n",
    "        score_test.append(round(fs(ytt,yhat_test),2))\n",
    "    scores_train.append(mean(score_train))\n",
    "    scores_test.append(mean(score_test))\n",
    "sns.lineplot(x=estimators,y=scores_train,color='r')\n",
    "sns.lineplot(x=estimators,y=scores_test,color='b')"
   ]
  },
  {
   "cell_type": "markdown",
   "metadata": {
    "papermill": {
     "duration": 0.067384,
     "end_time": "2020-11-12T10:42:10.245291",
     "exception": false,
     "start_time": "2020-11-12T10:42:10.177907",
     "status": "completed"
    },
    "tags": []
   },
   "source": [
    "The optimum number of trees was found to be 250."
   ]
  },
  {
   "cell_type": "markdown",
   "metadata": {
    "papermill": {
     "duration": 0.067072,
     "end_time": "2020-11-12T10:42:10.379542",
     "exception": false,
     "start_time": "2020-11-12T10:42:10.312470",
     "status": "completed"
    },
    "tags": []
   },
   "source": [
    "# Evaluation"
   ]
  },
  {
   "cell_type": "markdown",
   "metadata": {
    "papermill": {
     "duration": 0.066637,
     "end_time": "2020-11-12T10:42:10.513305",
     "exception": false,
     "start_time": "2020-11-12T10:42:10.446668",
     "status": "completed"
    },
    "tags": []
   },
   "source": [
    "Now we will test our models on the test data and see the performance with the help of confusion matrix."
   ]
  },
  {
   "cell_type": "code",
   "execution_count": 33,
   "metadata": {
    "execution": {
     "iopub.execute_input": "2020-11-12T10:42:10.653479Z",
     "iopub.status.busy": "2020-11-12T10:42:10.652793Z",
     "iopub.status.idle": "2020-11-12T10:42:10.655491Z",
     "shell.execute_reply": "2020-11-12T10:42:10.654890Z"
    },
    "papermill": {
     "duration": 0.075095,
     "end_time": "2020-11-12T10:42:10.655634",
     "exception": false,
     "start_time": "2020-11-12T10:42:10.580539",
     "status": "completed"
    },
    "tags": []
   },
   "outputs": [],
   "source": [
    "from sklearn.metrics import accuracy_score as acs\n",
    "from sklearn.metrics import confusion_matrix\n",
    "models,f1score,acscore = ['KNN','DTC','LR','GNB','SVM','RFC'],[],[]"
   ]
  },
  {
   "cell_type": "markdown",
   "metadata": {
    "papermill": {
     "duration": 0.070298,
     "end_time": "2020-11-12T10:42:10.793637",
     "exception": false,
     "start_time": "2020-11-12T10:42:10.723339",
     "status": "completed"
    },
    "tags": []
   },
   "source": [
    "### K Nearest Neighbors"
   ]
  },
  {
   "cell_type": "code",
   "execution_count": 34,
   "metadata": {
    "execution": {
     "iopub.execute_input": "2020-11-12T10:42:10.944023Z",
     "iopub.status.busy": "2020-11-12T10:42:10.943039Z",
     "iopub.status.idle": "2020-11-12T10:42:10.950303Z",
     "shell.execute_reply": "2020-11-12T10:42:10.949565Z"
    },
    "papermill": {
     "duration": 0.086624,
     "end_time": "2020-11-12T10:42:10.950449",
     "exception": false,
     "start_time": "2020-11-12T10:42:10.863825",
     "status": "completed"
    },
    "tags": []
   },
   "outputs": [
    {
     "name": "stdout",
     "output_type": "stream",
     "text": [
      "0.84 0.84\n"
     ]
    }
   ],
   "source": [
    "knn = KNC(n_neighbors=8,weights='distance')\n",
    "knn.fit(xtrain,ytrain)\n",
    "yhat_eval = knn.predict(xtest)\n",
    "f1 = round(fs(ytest,yhat_eval),2)\n",
    "ac = round(acs(ytest,yhat_eval),2)\n",
    "f1score.append(f1)\n",
    "acscore.append(ac)\n",
    "print(f1,ac)"
   ]
  },
  {
   "cell_type": "code",
   "execution_count": 35,
   "metadata": {
    "execution": {
     "iopub.execute_input": "2020-11-12T10:42:11.103843Z",
     "iopub.status.busy": "2020-11-12T10:42:11.094098Z",
     "iopub.status.idle": "2020-11-12T10:42:11.250783Z",
     "shell.execute_reply": "2020-11-12T10:42:11.250266Z"
    },
    "papermill": {
     "duration": 0.230824,
     "end_time": "2020-11-12T10:42:11.250913",
     "exception": false,
     "start_time": "2020-11-12T10:42:11.020089",
     "status": "completed"
    },
    "tags": []
   },
   "outputs": [
    {
     "data": {
      "text/plain": [
       "Text(33.0, 0.5, 'True Label')"
      ]
     },
     "execution_count": 35,
     "metadata": {},
     "output_type": "execute_result"
    },
    {
     "data": {
      "image/png": "[encoded data removed]",
      "text/plain": [
       "<Figure size 432x288 with 2 Axes>"
      ]
     },
     "metadata": {
      "needs_background": "light"
     },
     "output_type": "display_data"
    }
   ],
   "source": [
    "cfm = confusion_matrix(ytest,yhat_eval)\n",
    "sns.heatmap(cfm,annot=True)\n",
    "plt.title('Confusion Matrix KNN')\n",
    "plt.xlabel('Predicted Value')\n",
    "plt.ylabel('True Label')"
   ]
  },
  {
   "cell_type": "markdown",
   "metadata": {
    "papermill": {
     "duration": 0.069606,
     "end_time": "2020-11-12T10:42:11.390587",
     "exception": false,
     "start_time": "2020-11-12T10:42:11.320981",
     "status": "completed"
    },
    "tags": []
   },
   "source": [
    "### Decision Tree Classifier"
   ]
  },
  {
   "cell_type": "code",
   "execution_count": 36,
   "metadata": {
    "execution": {
     "iopub.execute_input": "2020-11-12T10:42:11.537742Z",
     "iopub.status.busy": "2020-11-12T10:42:11.537084Z",
     "iopub.status.idle": "2020-11-12T10:42:11.545764Z",
     "shell.execute_reply": "2020-11-12T10:42:11.545077Z"
    },
    "papermill": {
     "duration": 0.086589,
     "end_time": "2020-11-12T10:42:11.545941",
     "exception": false,
     "start_time": "2020-11-12T10:42:11.459352",
     "status": "completed"
    },
    "tags": []
   },
   "outputs": [
    {
     "name": "stdout",
     "output_type": "stream",
     "text": [
      "0.84 0.84\n"
     ]
    }
   ],
   "source": [
    "dtc = DTC(max_depth=6)\n",
    "dtc.fit(xtrain,ytrain)\n",
    "yhat_eval = dtc.predict(xtest)\n",
    "f1 = round(fs(ytest,yhat_eval),2)\n",
    "ac = round(acs(ytest,yhat_eval),2)\n",
    "f1score.append(f1)\n",
    "acscore.append(ac)\n",
    "print(f1,ac)"
   ]
  },
  {
   "cell_type": "code",
   "execution_count": 37,
   "metadata": {
    "execution": {
     "iopub.execute_input": "2020-11-12T10:42:11.699333Z",
     "iopub.status.busy": "2020-11-12T10:42:11.698611Z",
     "iopub.status.idle": "2020-11-12T10:42:11.843629Z",
     "shell.execute_reply": "2020-11-12T10:42:11.843056Z"
    },
    "papermill": {
     "duration": 0.227298,
     "end_time": "2020-11-12T10:42:11.843740",
     "exception": false,
     "start_time": "2020-11-12T10:42:11.616442",
     "status": "completed"
    },
    "tags": []
   },
   "outputs": [
    {
     "data": {
      "text/plain": [
       "Text(33.0, 0.5, 'True Label')"
      ]
     },
     "execution_count": 37,
     "metadata": {},
     "output_type": "execute_result"
    },
    {
     "data": {
      "image/png": "[encoded data removed]",
      "text/plain": [
       "<Figure size 432x288 with 2 Axes>"
      ]
     },
     "metadata": {
      "needs_background": "light"
     },
     "output_type": "display_data"
    }
   ],
   "source": [
    "cfm = confusion_matrix(ytest,yhat_eval)\n",
    "sns.heatmap(cfm,annot=True)\n",
    "plt.title('Confusion Matrix DTC')\n",
    "plt.xlabel('Predicted Value')\n",
    "plt.ylabel('True Label')"
   ]
  },
  {
   "cell_type": "markdown",
   "metadata": {
    "papermill": {
     "duration": 0.070138,
     "end_time": "2020-11-12T10:42:11.985749",
     "exception": false,
     "start_time": "2020-11-12T10:42:11.915611",
     "status": "completed"
    },
    "tags": []
   },
   "source": [
    "### Logistic Regression"
   ]
  },
  {
   "cell_type": "code",
   "execution_count": 38,
   "metadata": {
    "execution": {
     "iopub.execute_input": "2020-11-12T10:42:12.150858Z",
     "iopub.status.busy": "2020-11-12T10:42:12.147635Z",
     "iopub.status.idle": "2020-11-12T10:42:12.154946Z",
     "shell.execute_reply": "2020-11-12T10:42:12.154316Z"
    },
    "papermill": {
     "duration": 0.098489,
     "end_time": "2020-11-12T10:42:12.155082",
     "exception": false,
     "start_time": "2020-11-12T10:42:12.056593",
     "status": "completed"
    },
    "tags": []
   },
   "outputs": [
    {
     "name": "stdout",
     "output_type": "stream",
     "text": [
      "0.89 0.89\n"
     ]
    }
   ],
   "source": [
    "lr = LR(C=0.05)\n",
    "lr.fit(xtrain,ytrain)\n",
    "yhat_eval = lr.predict(xtest)\n",
    "f1 = round(fs(ytest,yhat_eval),2)\n",
    "ac = round(acs(ytest,yhat_eval),2)\n",
    "f1score.append(f1)\n",
    "acscore.append(ac)\n",
    "print(f1,ac)"
   ]
  },
  {
   "cell_type": "code",
   "execution_count": 39,
   "metadata": {
    "execution": {
     "iopub.execute_input": "2020-11-12T10:42:12.311361Z",
     "iopub.status.busy": "2020-11-12T10:42:12.310562Z",
     "iopub.status.idle": "2020-11-12T10:42:12.456748Z",
     "shell.execute_reply": "2020-11-12T10:42:12.456277Z"
    },
    "papermill": {
     "duration": 0.223916,
     "end_time": "2020-11-12T10:42:12.456903",
     "exception": false,
     "start_time": "2020-11-12T10:42:12.232987",
     "status": "completed"
    },
    "tags": []
   },
   "outputs": [
    {
     "data": {
      "text/plain": [
       "Text(33.0, 0.5, 'True Label')"
      ]
     },
     "execution_count": 39,
     "metadata": {},
     "output_type": "execute_result"
    },
    {
     "data": {
      "image/png": "[encoded data removed]",
      "text/plain": [
       "<Figure size 432x288 with 2 Axes>"
      ]
     },
     "metadata": {
      "needs_background": "light"
     },
     "output_type": "display_data"
    }
   ],
   "source": [
    "cfm = confusion_matrix(ytest,yhat_eval)\n",
    "sns.heatmap(cfm,annot=True)\n",
    "plt.title('Confusion Matrix LR')\n",
    "plt.xlabel('Predicted Value')\n",
    "plt.ylabel('True Label')"
   ]
  },
  {
   "cell_type": "markdown",
   "metadata": {
    "papermill": {
     "duration": 0.07116,
     "end_time": "2020-11-12T10:42:12.599383",
     "exception": false,
     "start_time": "2020-11-12T10:42:12.528223",
     "status": "completed"
    },
    "tags": []
   },
   "source": [
    "### Gaussian Naive Bayes"
   ]
  },
  {
   "cell_type": "code",
   "execution_count": 40,
   "metadata": {
    "execution": {
     "iopub.execute_input": "2020-11-12T10:42:12.753408Z",
     "iopub.status.busy": "2020-11-12T10:42:12.752745Z",
     "iopub.status.idle": "2020-11-12T10:42:12.761909Z",
     "shell.execute_reply": "2020-11-12T10:42:12.761295Z"
    },
    "papermill": {
     "duration": 0.089917,
     "end_time": "2020-11-12T10:42:12.762021",
     "exception": false,
     "start_time": "2020-11-12T10:42:12.672104",
     "status": "completed"
    },
    "tags": []
   },
   "outputs": [
    {
     "name": "stdout",
     "output_type": "stream",
     "text": [
      "0.86 0.87\n"
     ]
    }
   ],
   "source": [
    "gnb = GNB()\n",
    "gnb.fit(xtrain,ytrain)\n",
    "yhat_eval = gnb.predict(xtest)\n",
    "f1 = round(fs(ytest,yhat_eval),2)\n",
    "ac = round(acs(ytest,yhat_eval),2)\n",
    "f1score.append(f1)\n",
    "acscore.append(ac)\n",
    "print(f1,ac)"
   ]
  },
  {
   "cell_type": "code",
   "execution_count": 41,
   "metadata": {
    "execution": {
     "iopub.execute_input": "2020-11-12T10:42:12.924954Z",
     "iopub.status.busy": "2020-11-12T10:42:12.922080Z",
     "iopub.status.idle": "2020-11-12T10:42:13.069592Z",
     "shell.execute_reply": "2020-11-12T10:42:13.069003Z"
    },
    "papermill": {
     "duration": 0.232894,
     "end_time": "2020-11-12T10:42:13.069708",
     "exception": false,
     "start_time": "2020-11-12T10:42:12.836814",
     "status": "completed"
    },
    "tags": []
   },
   "outputs": [
    {
     "data": {
      "text/plain": [
       "Text(33.0, 0.5, 'True Label')"
      ]
     },
     "execution_count": 41,
     "metadata": {},
     "output_type": "execute_result"
    },
    {
     "data": {
      "image/png": "[encoded data removed]",
      "text/plain": [
       "<Figure size 432x288 with 2 Axes>"
      ]
     },
     "metadata": {
      "needs_background": "light"
     },
     "output_type": "display_data"
    }
   ],
   "source": [
    "cfm = confusion_matrix(ytest,yhat_eval)\n",
    "sns.heatmap(cfm,annot=True)\n",
    "plt.title('Confusion Matrix GNB')\n",
    "plt.xlabel('Predicted Value')\n",
    "plt.ylabel('True Label')"
   ]
  },
  {
   "cell_type": "markdown",
   "metadata": {
    "papermill": {
     "duration": 0.073213,
     "end_time": "2020-11-12T10:42:13.216624",
     "exception": false,
     "start_time": "2020-11-12T10:42:13.143411",
     "status": "completed"
    },
    "tags": []
   },
   "source": [
    "### Support Vector Machine"
   ]
  },
  {
   "cell_type": "code",
   "execution_count": 42,
   "metadata": {
    "execution": {
     "iopub.execute_input": "2020-11-12T10:42:13.382369Z",
     "iopub.status.busy": "2020-11-12T10:42:13.381588Z",
     "iopub.status.idle": "2020-11-12T10:42:13.391610Z",
     "shell.execute_reply": "2020-11-12T10:42:13.390780Z"
    },
    "papermill": {
     "duration": 0.10083,
     "end_time": "2020-11-12T10:42:13.391796",
     "exception": false,
     "start_time": "2020-11-12T10:42:13.290966",
     "status": "completed"
    },
    "tags": []
   },
   "outputs": [
    {
     "name": "stdout",
     "output_type": "stream",
     "text": [
      "0.87 0.87\n"
     ]
    }
   ],
   "source": [
    "svc = SVC(kernel='linear',C=0.1)\n",
    "svc.fit(xtrain,ytrain)\n",
    "yhat_eval = svc.predict(xtest)\n",
    "f1 = round(fs(ytest,yhat_eval),2)\n",
    "ac = round(acs(ytest,yhat_eval),2)\n",
    "f1score.append(f1)\n",
    "acscore.append(ac)\n",
    "print(f1,ac)"
   ]
  },
  {
   "cell_type": "code",
   "execution_count": 43,
   "metadata": {
    "execution": {
     "iopub.execute_input": "2020-11-12T10:42:13.562892Z",
     "iopub.status.busy": "2020-11-12T10:42:13.562242Z",
     "iopub.status.idle": "2020-11-12T10:42:13.711096Z",
     "shell.execute_reply": "2020-11-12T10:42:13.710467Z"
    },
    "papermill": {
     "duration": 0.23539,
     "end_time": "2020-11-12T10:42:13.711207",
     "exception": false,
     "start_time": "2020-11-12T10:42:13.475817",
     "status": "completed"
    },
    "tags": []
   },
   "outputs": [
    {
     "data": {
      "text/plain": [
       "Text(33.0, 0.5, 'True Label')"
      ]
     },
     "execution_count": 43,
     "metadata": {},
     "output_type": "execute_result"
    },
    {
     "data": {
      "image/png": "[encoded data removed]",
      "text/plain": [
       "<Figure size 432x288 with 2 Axes>"
      ]
     },
     "metadata": {
      "needs_background": "light"
     },
     "output_type": "display_data"
    }
   ],
   "source": [
    "cfm = confusion_matrix(ytest,yhat_eval)\n",
    "sns.heatmap(cfm,annot=True)\n",
    "plt.title('Confusion Matrix SVC')\n",
    "plt.xlabel('Predicted Value')\n",
    "plt.ylabel('True Label')"
   ]
  },
  {
   "cell_type": "markdown",
   "metadata": {
    "papermill": {
     "duration": 0.074641,
     "end_time": "2020-11-12T10:42:13.861185",
     "exception": false,
     "start_time": "2020-11-12T10:42:13.786544",
     "status": "completed"
    },
    "tags": []
   },
   "source": [
    "### Random Forest Classifier"
   ]
  },
  {
   "cell_type": "code",
   "execution_count": 44,
   "metadata": {
    "execution": {
     "iopub.execute_input": "2020-11-12T10:42:14.023516Z",
     "iopub.status.busy": "2020-11-12T10:42:14.022864Z",
     "iopub.status.idle": "2020-11-12T10:42:14.422784Z",
     "shell.execute_reply": "2020-11-12T10:42:14.422203Z"
    },
    "papermill": {
     "duration": 0.485538,
     "end_time": "2020-11-12T10:42:14.422923",
     "exception": false,
     "start_time": "2020-11-12T10:42:13.937385",
     "status": "completed"
    },
    "tags": []
   },
   "outputs": [
    {
     "name": "stdout",
     "output_type": "stream",
     "text": [
      "0.85 0.85\n"
     ]
    }
   ],
   "source": [
    "rfc = RFC(n_estimators=250,max_depth=6)\n",
    "rfc.fit(xtrain,ytrain)\n",
    "yhat_eval = rfc.predict(xtest)\n",
    "f1 = round(fs(ytest,yhat_eval),2)\n",
    "ac = round(acs(ytest,yhat_eval),2)\n",
    "f1score.append(f1)\n",
    "acscore.append(ac)\n",
    "print(f1,ac)"
   ]
  },
  {
   "cell_type": "code",
   "execution_count": 45,
   "metadata": {
    "execution": {
     "iopub.execute_input": "2020-11-12T10:42:14.592324Z",
     "iopub.status.busy": "2020-11-12T10:42:14.591608Z",
     "iopub.status.idle": "2020-11-12T10:42:14.736781Z",
     "shell.execute_reply": "2020-11-12T10:42:14.736303Z"
    },
    "papermill": {
     "duration": 0.233424,
     "end_time": "2020-11-12T10:42:14.736913",
     "exception": false,
     "start_time": "2020-11-12T10:42:14.503489",
     "status": "completed"
    },
    "tags": []
   },
   "outputs": [
    {
     "data": {
      "text/plain": [
       "Text(33.0, 0.5, 'True Label')"
      ]
     },
     "execution_count": 45,
     "metadata": {},
     "output_type": "execute_result"
    },
    {
     "data": {
      "image/png": "[encoded data removed]",
      "text/plain": [
       "<Figure size 432x288 with 2 Axes>"
      ]
     },
     "metadata": {
      "needs_background": "light"
     },
     "output_type": "display_data"
    }
   ],
   "source": [
    "cfm = confusion_matrix(ytest,yhat_eval)\n",
    "sns.heatmap(cfm,annot=True)\n",
    "plt.title('Confusion Matrix RFC')\n",
    "plt.xlabel('Predicted Value')\n",
    "plt.ylabel('True Label')"
   ]
  },
  {
   "cell_type": "markdown",
   "metadata": {
    "papermill": {
     "duration": 0.076139,
     "end_time": "2020-11-12T10:42:14.889125",
     "exception": false,
     "start_time": "2020-11-12T10:42:14.812986",
     "status": "completed"
    },
    "tags": []
   },
   "source": [
    "We will analyse the metrics for various models and select the best one."
   ]
  },
  {
   "cell_type": "code",
   "execution_count": 46,
   "metadata": {
    "execution": {
     "iopub.execute_input": "2020-11-12T10:42:15.055797Z",
     "iopub.status.busy": "2020-11-12T10:42:15.054736Z",
     "iopub.status.idle": "2020-11-12T10:42:15.059146Z",
     "shell.execute_reply": "2020-11-12T10:42:15.058625Z"
    },
    "papermill": {
     "duration": 0.094272,
     "end_time": "2020-11-12T10:42:15.059260",
     "exception": false,
     "start_time": "2020-11-12T10:42:14.964988",
     "status": "completed"
    },
    "tags": []
   },
   "outputs": [
    {
     "data": {
      "text/html": [
       "<div>\n",
       "<style scoped>\n",
       "    .dataframe tbody tr th:only-of-type {\n",
       "        vertical-align: middle;\n",
       "    }\n",
       "\n",
       "    .dataframe tbody tr th {\n",
       "        vertical-align: top;\n",
       "    }\n",
       "\n",
       "    .dataframe thead th {\n",
       "        text-align: right;\n",
       "    }\n",
       "</style>\n",
       "<table border=\"1\" class=\"dataframe\">\n",
       "  <thead>\n",
       "    <tr style=\"text-align: right;\">\n",
       "      <th></th>\n",
       "      <th>F1 Score</th>\n",
       "      <th>Accuracy Score</th>\n",
       "    </tr>\n",
       "  </thead>\n",
       "  <tbody>\n",
       "    <tr>\n",
       "      <th>LR</th>\n",
       "      <td>0.89</td>\n",
       "      <td>0.89</td>\n",
       "    </tr>\n",
       "    <tr>\n",
       "      <th>SVM</th>\n",
       "      <td>0.87</td>\n",
       "      <td>0.87</td>\n",
       "    </tr>\n",
       "    <tr>\n",
       "      <th>GNB</th>\n",
       "      <td>0.86</td>\n",
       "      <td>0.87</td>\n",
       "    </tr>\n",
       "    <tr>\n",
       "      <th>RFC</th>\n",
       "      <td>0.85</td>\n",
       "      <td>0.85</td>\n",
       "    </tr>\n",
       "    <tr>\n",
       "      <th>KNN</th>\n",
       "      <td>0.84</td>\n",
       "      <td>0.84</td>\n",
       "    </tr>\n",
       "    <tr>\n",
       "      <th>DTC</th>\n",
       "      <td>0.84</td>\n",
       "      <td>0.84</td>\n",
       "    </tr>\n",
       "  </tbody>\n",
       "</table>\n",
       "</div>"
      ],
      "text/plain": [
       "     F1 Score  Accuracy Score\n",
       "LR       0.89            0.89\n",
       "SVM      0.87            0.87\n",
       "GNB      0.86            0.87\n",
       "RFC      0.85            0.85\n",
       "KNN      0.84            0.84\n",
       "DTC      0.84            0.84"
      ]
     },
     "execution_count": 46,
     "metadata": {},
     "output_type": "execute_result"
    }
   ],
   "source": [
    "Results = pd.DataFrame({'F1 Score':f1score,'Accuracy Score':acscore},index=models)\n",
    "Results.sort_values(by=['F1 Score','Accuracy Score'],ascending=False)"
   ]
  },
  {
   "cell_type": "markdown",
   "metadata": {
    "papermill": {
     "duration": 0.07733,
     "end_time": "2020-11-12T10:42:15.213505",
     "exception": false,
     "start_time": "2020-11-12T10:42:15.136175",
     "status": "completed"
    },
    "tags": []
   },
   "source": [
    "Therefore from the above table it is clear that Logistic Regression was the best model as it generated the highest F1 and Accuracy score."
   ]
  }
 ],
 "metadata": {
  "kernelspec": {
   "display_name": "Python 3",
   "language": "python",
   "name": "python3"
  },
  "language_info": {
   "codemirror_mode": {
    "name": "ipython",
    "version": 3
   },
   "file_extension": ".py",
   "mimetype": "text/x-python",
   "name": "python",
   "nbconvert_exporter": "python",
   "pygments_lexer": "ipython3",
   "version": "3.7.6"
  },
  "papermill": {
   "duration": 47.311727,
   "end_time": "2020-11-12T10:42:15.407595",
   "environment_variables": {},
   "exception": null,
   "input_path": "__notebook__.ipynb",
   "output_path": "__notebook__.ipynb",
   "parameters": {},
   "start_time": "2020-11-12T10:41:28.095868",
   "version": "2.1.0"
  }
 },
 "nbformat": 4,
 "nbformat_minor": 4
}
